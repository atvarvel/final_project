{
  "nbformat": 4,
  "nbformat_minor": 0,
  "metadata": {
    "colab": {
      "name": "Copy of Sentiment.ipynb",
      "provenance": [],
      "collapsed_sections": []
    },
    "kernelspec": {
      "name": "python3",
      "display_name": "Python 3"
    },
    "language_info": {
      "name": "python"
    }
  },
  "cells": [
    {
      "cell_type": "code",
      "metadata": {
        "colab": {
          "base_uri": "https://localhost:8080/"
        },
        "id": "CYHQXGLfs7FG",
        "outputId": "5a2b4dc3-9fec-4432-cfd9-0c4addc678ed"
      },
      "source": [
        "import os\n",
        "# Find the latest version of spark 3.0  from http://www-us.apache.org/dist/spark/ and enter as the spark version\n",
        "# For example:\n",
        "# spark_version = 'spark-3.0.2'\n",
        "spark_version = 'spark-3.1.2'\n",
        "os.environ['SPARK_VERSION']=spark_version\n",
        "\n",
        "# Install Spark and Java\n",
        "!apt-get update\n",
        "!apt-get install openjdk-11-jdk-headless -qq > /dev/null\n",
        "!wget -q https://downloads.apache.org/spark/$SPARK_VERSION/$SPARK_VERSION-bin-hadoop2.7.tgz\n",
        "!tar xf $SPARK_VERSION-bin-hadoop2.7.tgz\n",
        "!pip install -q findspark\n",
        "\n",
        "# Set Environment Variables\n",
        "os.environ[\"JAVA_HOME\"] = \"/usr/lib/jvm/java-11-openjdk-amd64\"\n",
        "os.environ[\"SPARK_HOME\"] = f\"/content/{spark_version}-bin-hadoop2.7\"\n",
        "\n",
        "# Start a SparkSession\n",
        "import findspark\n",
        "findspark.init()"
      ],
      "execution_count": null,
      "outputs": [
        {
          "output_type": "stream",
          "text": [
            "\r0% [Working]\r            \rIgn:1 https://developer.download.nvidia.com/compute/cuda/repos/ubuntu1804/x86_64  InRelease\n",
            "\r0% [Connecting to archive.ubuntu.com] [Connecting to security.ubuntu.com] [Wait\r                                                                               \rGet:2 https://cloud.r-project.org/bin/linux/ubuntu bionic-cran40/ InRelease [3,626 B]\n",
            "\r0% [Connecting to archive.ubuntu.com] [Connecting to security.ubuntu.com] [2 In\r0% [Connecting to archive.ubuntu.com] [Connecting to security.ubuntu.com] [Conn\r                                                                               \rIgn:3 https://developer.download.nvidia.com/compute/machine-learning/repos/ubuntu1804/x86_64  InRelease\n",
            "\r0% [Connecting to archive.ubuntu.com] [Connecting to security.ubuntu.com] [Conn\r0% [2 InRelease gpgv 3,626 B] [Connecting to archive.ubuntu.com] [Connecting to\r                                                                               \rHit:4 https://developer.download.nvidia.com/compute/cuda/repos/ubuntu1804/x86_64  Release\n",
            "Hit:5 https://developer.download.nvidia.com/compute/machine-learning/repos/ubuntu1804/x86_64  Release\n",
            "Get:6 http://ppa.launchpad.net/c2d4u.team/c2d4u4.0+/ubuntu bionic InRelease [15.9 kB]\n",
            "Get:7 http://security.ubuntu.com/ubuntu bionic-security InRelease [88.7 kB]\n",
            "Hit:8 http://archive.ubuntu.com/ubuntu bionic InRelease\n",
            "Get:9 http://archive.ubuntu.com/ubuntu bionic-updates InRelease [88.7 kB]\n",
            "Hit:11 http://ppa.launchpad.net/cran/libgit2/ubuntu bionic InRelease\n",
            "Hit:13 http://ppa.launchpad.net/deadsnakes/ppa/ubuntu bionic InRelease\n",
            "Get:14 http://archive.ubuntu.com/ubuntu bionic-backports InRelease [74.6 kB]\n",
            "Hit:15 http://ppa.launchpad.net/graphics-drivers/ppa/ubuntu bionic InRelease\n",
            "Get:16 http://security.ubuntu.com/ubuntu bionic-security/restricted amd64 Packages [543 kB]\n",
            "Get:17 http://ppa.launchpad.net/c2d4u.team/c2d4u4.0+/ubuntu bionic/main Sources [1,792 kB]\n",
            "Get:18 http://security.ubuntu.com/ubuntu bionic-security/universe amd64 Packages [1,424 kB]\n",
            "Get:19 http://security.ubuntu.com/ubuntu bionic-security/main amd64 Packages [2,294 kB]\n",
            "Get:20 http://archive.ubuntu.com/ubuntu bionic-updates/main amd64 Packages [2,730 kB]\n",
            "Get:21 http://archive.ubuntu.com/ubuntu bionic-updates/restricted amd64 Packages [575 kB]\n",
            "Get:22 http://archive.ubuntu.com/ubuntu bionic-updates/multiverse amd64 Packages [34.4 kB]\n",
            "Get:23 http://archive.ubuntu.com/ubuntu bionic-updates/universe amd64 Packages [2,199 kB]\n",
            "Get:24 http://ppa.launchpad.net/c2d4u.team/c2d4u4.0+/ubuntu bionic/main amd64 Packages [917 kB]\n",
            "Fetched 12.8 MB in 4s (3,499 kB/s)\n",
            "Reading package lists... Done\n"
          ],
          "name": "stdout"
        }
      ]
    },
    {
      "cell_type": "code",
      "metadata": {
        "id": "3FAO8x41t4Q7"
      },
      "source": [
        "# Start Spark session\n",
        "from pyspark.sql import SparkSession\n",
        "spark = SparkSession.builder.appName(\"Hashing\").getOrCreate()"
      ],
      "execution_count": null,
      "outputs": []
    },
    {
      "cell_type": "code",
      "metadata": {
        "id": "5BAZg-pDuDLn"
      },
      "source": [
        "from pyspark.ml.feature import HashingTF, IDF, Tokenizer, StopWordsRemover, StringIndexer"
      ],
      "execution_count": null,
      "outputs": []
    },
    {
      "cell_type": "code",
      "metadata": {
        "colab": {
          "base_uri": "https://localhost:8080/"
        },
        "id": "-aZd4bcLyNeO",
        "outputId": "aa843ed7-4997-4813-8732-155fca45368e"
      },
      "source": [
        "# Read in data from S3 Buckets\n",
        "from pyspark import SparkFiles\n",
        "url =\"https://butlerdata-group2-project3.s3.us-east-2.amazonaws.com/Tweets.csv\"\n",
        "spark.sparkContext.addFile(url)\n",
        "df = spark.read.csv(SparkFiles.get(\"Tweets.csv\"), sep=\",\", header=True)\n",
        "\n",
        "# Show DataFrame\n",
        "df.show(60)"
      ],
      "execution_count": null,
      "outputs": [
        {
          "output_type": "stream",
          "text": [
            "+--------------------+-----------------+----------------------------+--------------------+-------------------------+--------------+----------------------+---------------+-------------------+-------------+--------------------+--------------------+--------------------+--------------------+--------------------+\n",
            "|            tweet_id|airline_sentiment|airline_sentiment_confidence|      negativereason|negativereason_confidence|       airline|airline_sentiment_gold|           name|negativereason_gold|retweet_count|                text|         tweet_coord|       tweet_created|      tweet_location|       user_timezone|\n",
            "+--------------------+-----------------+----------------------------+--------------------+-------------------------+--------------+----------------------+---------------+-------------------+-------------+--------------------+--------------------+--------------------+--------------------+--------------------+\n",
            "|  570306133677760513|          neutral|                         1.0|                null|                     null|Virgin America|                  null|        cairdin|               null|            0|@VirginAmerica Wh...|                null|2015-02-24 11:35:...|                null|Eastern Time (US ...|\n",
            "|  570301130888122368|         positive|                      0.3486|                null|                      0.0|Virgin America|                  null|       jnardino|               null|            0|@VirginAmerica pl...|                null|2015-02-24 11:15:...|                null|Pacific Time (US ...|\n",
            "|  570301083672813571|          neutral|                      0.6837|                null|                     null|Virgin America|                  null|     yvonnalynn|               null|            0|@VirginAmerica I ...|                null|2015-02-24 11:15:...|           Lets Play|Central Time (US ...|\n",
            "|  570301031407624196|         negative|                         1.0|          Bad Flight|                   0.7033|Virgin America|                  null|       jnardino|               null|            0|\"@VirginAmerica i...|                null|2015-02-24 11:15:...|                null|Pacific Time (US ...|\n",
            "|  570300817074462722|         negative|                         1.0|          Can't Tell|                      1.0|Virgin America|                  null|       jnardino|               null|            0|@VirginAmerica an...|                null|2015-02-24 11:14:...|                null|Pacific Time (US ...|\n",
            "|  570300767074181121|         negative|                         1.0|          Can't Tell|                   0.6842|Virgin America|                  null|       jnardino|               null|            0|@VirginAmerica se...|                null|                null|                null|                null|\n",
            "|it's really the o...|             null|        2015-02-24 11:14:...|                null|     Pacific Time (US ...|          null|                  null|           null|               null|         null|                null|                null|                null|                null|                null|\n",
            "|  570300616901320704|         positive|                      0.6745|                null|                      0.0|Virgin America|                  null|     cjmcginnis|               null|            0|@VirginAmerica ye...|                null|2015-02-24 11:13:...|    San Francisco CA|Pacific Time (US ...|\n",
            "|  570300248553349120|          neutral|                       0.634|                null|                     null|Virgin America|                  null|          pilot|               null|            0|@VirginAmerica Re...|                null|2015-02-24 11:12:...|         Los Angeles|Pacific Time (US ...|\n",
            "|  570299953286942721|         positive|                      0.6559|                null|                     null|Virgin America|                  null|       dhepburn|               null|            0|@virginamerica We...|                null|2015-02-24 11:11:...|           San Diego|Pacific Time (US ...|\n",
            "|  570295459631263746|         positive|                         1.0|                null|                     null|Virgin America|                  null|     YupitsTate|               null|            0|@VirginAmerica it...|                null|2015-02-24 10:53:...|         Los Angeles|Eastern Time (US ...|\n",
            "|  570294189143031808|          neutral|                      0.6769|                null|                      0.0|Virgin America|                  null|idk_but_youtube|               null|            0|@VirginAmerica di...|                null|2015-02-24 10:48:...|     1/1 loner squad|Eastern Time (US ...|\n",
            "|  570289724453216256|         positive|                         1.0|                null|                     null|Virgin America|                  null|   HyperCamiLax|               null|            0|@VirginAmerica I ...|                null|2015-02-24 10:30:...|                 NYC|    America/New_York|\n",
            "|  570289584061480960|         positive|                         1.0|                null|                     null|Virgin America|                  null|   HyperCamiLax|               null|            0|@VirginAmerica Th...|                null|2015-02-24 10:30:...|                 NYC|    America/New_York|\n",
            "|  570287408438120448|         positive|                      0.6451|                null|                     null|Virgin America|                  null|   mollanderson|               null|            0|@VirginAmerica @v...|                null|2015-02-24 10:21:...|                null|Eastern Time (US ...|\n",
            "|  570285904809598977|         positive|                         1.0|                null|                     null|Virgin America|                  null|       sjespers|               null|            0|@VirginAmerica Th...|                null|2015-02-24 10:15:...|   San Francisco, CA|Pacific Time (US ...|\n",
            "|  570282469121007616|         negative|                      0.6842|         Late Flight|                   0.3684|Virgin America|                  null|smartwatermelon|               null|            0|@VirginAmerica SF...|                null|2015-02-24 10:01:...|       palo alto, ca|Pacific Time (US ...|\n",
            "|  570277724385734656|         positive|                         1.0|                null|                     null|Virgin America|                  null|  ItzBrianHunty|               null|            0|@VirginAmerica So...|                null|2015-02-24 09:42:...|         west covina|Pacific Time (US ...|\n",
            "|  570276917301137409|         negative|                         1.0|          Bad Flight|                      1.0|Virgin America|                  null|  heatherovieda|               null|            0|@VirginAmerica  I...|                null|2015-02-24 09:39:...|this place called...|Eastern Time (US ...|\n",
            "|  570270684619923457|         positive|                         1.0|                null|                     null|Virgin America|                  null|   thebrandiray|               null|            0|I ❤️ flying @Virg...|                null|2015-02-24 09:15:...|Somewhere celebra...|Atlantic Time (Ca...|\n",
            "|  570267956648792064|         positive|                         1.0|                null|                     null|Virgin America|                  null|      JNLpierce|               null|            0|@VirginAmerica yo...|                null|2015-02-24 09:04:...|    Boston | Waltham|               Quito|\n",
            "|  570265883513384960|         negative|                      0.6705|          Can't Tell|                   0.3614|Virgin America|                  null|         MISSGJ|               null|            0|@VirginAmerica wh...|                null|2015-02-24 08:55:...|                null|                null|\n",
            "|  570264145116819457|         positive|                         1.0|                null|                     null|Virgin America|                  null|         DT_Les|               null|            0|@VirginAmerica I ...|[40.74804263, -73...|2015-02-24 08:49:...|                null|                null|\n",
            "|  570259420287868928|         positive|                         1.0|                null|                     null|Virgin America|                  null|     ElvinaBeck|               null|            0|@VirginAmerica I ...|                null|2015-02-24 08:30:...|         Los Angeles|Pacific Time (US ...|\n",
            "|  570258822297579520|          neutral|                         1.0|                null|                     null|Virgin America|                  null|   rjlynch21086|               null|            0|@VirginAmerica wi...|                null|2015-02-24 08:27:...|         Boston, MA |Eastern Time (US ...|\n",
            "|  570256553502068736|         negative|                         1.0|Customer Service ...|                   0.3557|Virgin America|                  null|    ayeevickiee|               null|            0|@VirginAmerica yo...|                null|2015-02-24 08:18:...|                 714|Mountain Time (US...|\n",
            "|  570249102404923392|         negative|                         1.0|Customer Service ...|                      1.0|Virgin America|                  null|        Leora13|               null|            0|@VirginAmerica st...|                null|2015-02-24 07:49:...|                null|                null|\n",
            "|  570239632807370753|         negative|                         1.0|          Can't Tell|                   0.6614|Virgin America|                  null|  meredithjlynn|               null|            0|@VirginAmerica Wh...|                null|2015-02-24 07:11:...|                null|                null|\n",
            "|  570217831557677057|          neutral|                      0.6854|                null|                     null|Virgin America|                  null|     AdamSinger|               null|            0|@VirginAmerica do...|                null|2015-02-24 05:44:...|   San Francisco, CA|Central Time (US ...|\n",
            "|  570207886493782019|         negative|                         1.0|          Bad Flight|                      1.0|Virgin America|                  null|blackjackpro911|               null|            0|@VirginAmerica am...|[42.361016, -71.0...|2015-02-24 05:05:...|San Mateo, CA & L...|                null|\n",
            "|  570124596180955136|          neutral|                       0.615|                null|                      0.0|Virgin America|                  null|TenantsUpstairs|               null|            0|@VirginAmerica LA...|[33.94540417, -11...|2015-02-23 23:34:...|            Brooklyn|Atlantic Time (Ca...|\n",
            "|  570114021854212096|         negative|                         1.0|Flight Booking Pr...|                      1.0|Virgin America|                  null|  jordanpichler|               null|            0|@VirginAmerica hi...|                null|2015-02-23 22:52:...|                null|              Vienna|\n",
            "|  570094701371469825|          neutral|                         1.0|                null|                     null|Virgin America|                  null|   JCervantezzz|               null|            0|@VirginAmerica Ar...|                null|2015-02-23 21:35:...|California, San F...|Pacific Time (US ...|\n",
            "|  570088404156698625|         negative|                         1.0|Customer Service ...|                      1.0|Virgin America|                  null|    Cuschoolie1|               null|            0|@VirginAmerica he...|[33.94209449, -11...|2015-02-23 21:10:...|       Washington DC|               Quito|\n",
            "|  570084582780899328|         negative|                         1.0|Customer Service ...|                      1.0|Virgin America|                  null| amanduhmccarty|               null|            0|@VirginAmerica aw...|                null|2015-02-23 20:55:...|                null|Pacific Time (US ...|\n",
            "|  570076792993611776|         positive|                         1.0|                null|                     null|Virgin America|                  null|NorthTxHomeTeam|               null|            0|@VirginAmerica th...|[33.2145038, -96....|2015-02-23 20:24:...|               Texas|Central Time (US ...|\n",
            "|  570051991277342720|          neutral|                      0.6207|                null|                     null|Virgin America|                  null|    miaerolinea|               null|            0|Nice RT @VirginAm...|                null|2015-02-23 18:46:...|           Worldwide|             Caracas|\n",
            "|  570051381534396416|         positive|                         1.0|                null|                     null|Virgin America|                  null|      Nicsplace|               null|            0|@VirginAmerica Mo...|                null|2015-02-23 18:43:...|       Central Texas|                null|\n",
            "|  570045393565691904|         positive|                         1.0|                null|                     null|Virgin America|                  null|      Nicsplace|               null|            0|@VirginAmerica @f...|                null|2015-02-23 18:19:...|       Central Texas|                null|\n",
            "|  570038941497192448|          neutral|                      0.6791|                null|                      0.0|Virgin America|                  null|elisha_malulani|               null|            0|@VirginAmerica wh...|                null|2015-02-23 17:54:...|i'm creating a mo...|Pacific Time (US ...|\n",
            "|  570035876845084672|         negative|                         1.0|Customer Service ...|                      1.0|Virgin America|                  null|  DannyDouglass|               null|            0|@VirginAmerica Yo...|                null|2015-02-23 17:41:...|   San Francisco, CA|Pacific Time (US ...|\n",
            "|  570033593394667521|         positive|                      0.6639|                null|                     null|Virgin America|                  null|jamesferrandini|               null|            0|@VirginAmerica Vi...|                null|2015-02-23 17:32:...|                null|                null|\n",
            "|  570025482344898560|         negative|                      0.6688|Flight Booking Pr...|                   0.6688|Virgin America|                  null|  will_lenzenjr|               null|            0|@VirginAmerica He...|                null|2015-02-23 17:00:...|           Iowa City|Central Time (US ...|\n",
            "|  570016304284901379|          neutral|                         1.0|                null|                     null|Virgin America|                  null|     GottAmanda|               null|            0|@VirginAmerica pl...|[34.0219817, -118...|2015-02-23 16:24:...|         Los Angeles|                null|\n",
            "|  570015408788414464|          neutral|                      0.6578|                null|                      0.0|Virgin America|                  null|      KGervaise|               null|            0|@VirginAmerica I ...|                null|2015-02-23 16:20:...|             Georgia|Pacific Time (US ...|\n",
            "|  570013523650048002|          neutral|                         1.0|                null|                     null|Virgin America|                  null|      papamurat|               null|            0|@VirginAmerica ar...|                null|2015-02-23 16:13:...|                null|                null|\n",
            "|  570012257549070337|         positive|                         1.0|                null|                     null|Virgin America|                  null|      arieldaie|               null|            0|@VirginAmerica I'...|                null|2015-02-23 16:08:...|         Los Angeles|                null|\n",
            "|  570011341483843584|          neutral|                      0.6799|                null|                     null|Virgin America|                  null|     vacations7|               null|            0|@VirginAmerica  D...|                null|2015-02-23 16:04:...|    Turks and caicos|                null|\n",
            "|  570010571707256832|         positive|                         1.0|                null|                     null|Virgin America|                  null|  ChelseaPoe666|               null|            0|@VirginAmerica wo...|                null|2015-02-23 16:01:...|Oakland via Midwest |Atlantic Time (Ca...|\n",
            "|  570010539499393025|          neutral|                         1.0|                null|                     null|Virgin America|                  null|    BobGlavinVO|               null|            0|@VirginAmerica @l...|                null|2015-02-23 16:01:...|        New York, NY|Eastern Time (US ...|\n",
            "|  570009713447825408|          neutral|                      0.6436|                null|                     null|Virgin America|                  null|       lisaaiko|               null|            0|@VirginAmerica @l...|                null|2015-02-23 15:58:...|                null|                null|\n",
            "|  570009035455344640|          neutral|                      0.6764|                null|                      0.0|Virgin America|                  null|    grantbrowne|               null|            0|\"@VirginAmerica I...|                null|2015-02-23 15:55:...|           Worldwide|Central Time (US ...|\n",
            "|  570006886012973056|         positive|                       0.657|                null|                     null|Virgin America|                  null|     joyabsalon|               null|            0|@VirginAmerica @l...|                null|2015-02-23 15:46:...|   Northern Virginia|Eastern Time (US ...|\n",
            "|  570004391731847169|          neutral|                         1.0|                null|                     null|Virgin America|                  null|             2v|               null|            0|@VirginAmerica wi...|                null|2015-02-23 15:36:...|Los Angeles / Atl...|Eastern Time (US ...|\n",
            "|  570001194900426752|          neutral|                      0.7118|                null|                      0.0|Virgin America|                  null|KSmithFoundHere|               null|            0|@VirginAmerica @l...|                null|2015-02-23 15:24:...|                null|Atlantic Time (Ca...|\n",
            "|  570000071644872704|          neutral|                         1.0|                null|                     null|Virgin America|                  null|      papamurat|               null|            0|@VirginAmerica Wi...|                null|2015-02-23 15:19:...|                null|                null|\n",
            "|  569996412286582784|         negative|                      0.6939|Flight Booking Pr...|                   0.6939|Virgin America|                  null|      murphicus|               null|            0|@VirginAmerica hi...|                null|2015-02-23 15:05:...|  new york, new york|Eastern Time (US ...|\n",
            "|  569996245462159361|         positive|                         1.0|                null|                     null|Virgin America|                  null|    VinnieFerra|               null|            0|@VirginAmerica yo...|                null|2015-02-23 15:04:...|        brooklyn, Ny|Pacific Time (US ...|\n",
            "|  569990222609412097|         positive|                       0.635|                null|                     null|Virgin America|                  null|     KevinDemsi|               null|            0|@VirginAmerica @l...|                null|2015-02-23 14:40:...|Bali, Republic of...|        Kuala Lumpur|\n",
            "|  569990163209850881|          neutral|                      0.7007|                null|                     null|Virgin America|                  null|    giffgaffman|               null|            0|@VirginAmerica @l...|                null|2015-02-23 14:40:...|           UK, USA. |                null|\n",
            "+--------------------+-----------------+----------------------------+--------------------+-------------------------+--------------+----------------------+---------------+-------------------+-------------+--------------------+--------------------+--------------------+--------------------+--------------------+\n",
            "only showing top 60 rows\n",
            "\n"
          ],
          "name": "stdout"
        }
      ]
    },
    {
      "cell_type": "code",
      "metadata": {
        "colab": {
          "base_uri": "https://localhost:8080/"
        },
        "id": "x8Y-44nNrQl_",
        "outputId": "0e878b37-3be4-449b-b4a0-4507c5f51e6f"
      },
      "source": [
        "df = df.filter(df.airline != \"null\")\n",
        "\n",
        "df.show(60)"
      ],
      "execution_count": null,
      "outputs": [
        {
          "output_type": "stream",
          "text": [
            "+------------------+-----------------+----------------------------+--------------------+-------------------------+--------------+----------------------+---------------+-------------------+-------------+--------------------+--------------------+--------------------+--------------------+--------------------+\n",
            "|          tweet_id|airline_sentiment|airline_sentiment_confidence|      negativereason|negativereason_confidence|       airline|airline_sentiment_gold|           name|negativereason_gold|retweet_count|                text|         tweet_coord|       tweet_created|      tweet_location|       user_timezone|\n",
            "+------------------+-----------------+----------------------------+--------------------+-------------------------+--------------+----------------------+---------------+-------------------+-------------+--------------------+--------------------+--------------------+--------------------+--------------------+\n",
            "|570306133677760513|          neutral|                         1.0|                null|                     null|Virgin America|                  null|        cairdin|               null|            0|@VirginAmerica Wh...|                null|2015-02-24 11:35:...|                null|Eastern Time (US ...|\n",
            "|570301130888122368|         positive|                      0.3486|                null|                      0.0|Virgin America|                  null|       jnardino|               null|            0|@VirginAmerica pl...|                null|2015-02-24 11:15:...|                null|Pacific Time (US ...|\n",
            "|570301083672813571|          neutral|                      0.6837|                null|                     null|Virgin America|                  null|     yvonnalynn|               null|            0|@VirginAmerica I ...|                null|2015-02-24 11:15:...|           Lets Play|Central Time (US ...|\n",
            "|570301031407624196|         negative|                         1.0|          Bad Flight|                   0.7033|Virgin America|                  null|       jnardino|               null|            0|\"@VirginAmerica i...|                null|2015-02-24 11:15:...|                null|Pacific Time (US ...|\n",
            "|570300817074462722|         negative|                         1.0|          Can't Tell|                      1.0|Virgin America|                  null|       jnardino|               null|            0|@VirginAmerica an...|                null|2015-02-24 11:14:...|                null|Pacific Time (US ...|\n",
            "|570300767074181121|         negative|                         1.0|          Can't Tell|                   0.6842|Virgin America|                  null|       jnardino|               null|            0|@VirginAmerica se...|                null|                null|                null|                null|\n",
            "|570300616901320704|         positive|                      0.6745|                null|                      0.0|Virgin America|                  null|     cjmcginnis|               null|            0|@VirginAmerica ye...|                null|2015-02-24 11:13:...|    San Francisco CA|Pacific Time (US ...|\n",
            "|570300248553349120|          neutral|                       0.634|                null|                     null|Virgin America|                  null|          pilot|               null|            0|@VirginAmerica Re...|                null|2015-02-24 11:12:...|         Los Angeles|Pacific Time (US ...|\n",
            "|570299953286942721|         positive|                      0.6559|                null|                     null|Virgin America|                  null|       dhepburn|               null|            0|@virginamerica We...|                null|2015-02-24 11:11:...|           San Diego|Pacific Time (US ...|\n",
            "|570295459631263746|         positive|                         1.0|                null|                     null|Virgin America|                  null|     YupitsTate|               null|            0|@VirginAmerica it...|                null|2015-02-24 10:53:...|         Los Angeles|Eastern Time (US ...|\n",
            "|570294189143031808|          neutral|                      0.6769|                null|                      0.0|Virgin America|                  null|idk_but_youtube|               null|            0|@VirginAmerica di...|                null|2015-02-24 10:48:...|     1/1 loner squad|Eastern Time (US ...|\n",
            "|570289724453216256|         positive|                         1.0|                null|                     null|Virgin America|                  null|   HyperCamiLax|               null|            0|@VirginAmerica I ...|                null|2015-02-24 10:30:...|                 NYC|    America/New_York|\n",
            "|570289584061480960|         positive|                         1.0|                null|                     null|Virgin America|                  null|   HyperCamiLax|               null|            0|@VirginAmerica Th...|                null|2015-02-24 10:30:...|                 NYC|    America/New_York|\n",
            "|570287408438120448|         positive|                      0.6451|                null|                     null|Virgin America|                  null|   mollanderson|               null|            0|@VirginAmerica @v...|                null|2015-02-24 10:21:...|                null|Eastern Time (US ...|\n",
            "|570285904809598977|         positive|                         1.0|                null|                     null|Virgin America|                  null|       sjespers|               null|            0|@VirginAmerica Th...|                null|2015-02-24 10:15:...|   San Francisco, CA|Pacific Time (US ...|\n",
            "|570282469121007616|         negative|                      0.6842|         Late Flight|                   0.3684|Virgin America|                  null|smartwatermelon|               null|            0|@VirginAmerica SF...|                null|2015-02-24 10:01:...|       palo alto, ca|Pacific Time (US ...|\n",
            "|570277724385734656|         positive|                         1.0|                null|                     null|Virgin America|                  null|  ItzBrianHunty|               null|            0|@VirginAmerica So...|                null|2015-02-24 09:42:...|         west covina|Pacific Time (US ...|\n",
            "|570276917301137409|         negative|                         1.0|          Bad Flight|                      1.0|Virgin America|                  null|  heatherovieda|               null|            0|@VirginAmerica  I...|                null|2015-02-24 09:39:...|this place called...|Eastern Time (US ...|\n",
            "|570270684619923457|         positive|                         1.0|                null|                     null|Virgin America|                  null|   thebrandiray|               null|            0|I ❤️ flying @Virg...|                null|2015-02-24 09:15:...|Somewhere celebra...|Atlantic Time (Ca...|\n",
            "|570267956648792064|         positive|                         1.0|                null|                     null|Virgin America|                  null|      JNLpierce|               null|            0|@VirginAmerica yo...|                null|2015-02-24 09:04:...|    Boston | Waltham|               Quito|\n",
            "|570265883513384960|         negative|                      0.6705|          Can't Tell|                   0.3614|Virgin America|                  null|         MISSGJ|               null|            0|@VirginAmerica wh...|                null|2015-02-24 08:55:...|                null|                null|\n",
            "|570264145116819457|         positive|                         1.0|                null|                     null|Virgin America|                  null|         DT_Les|               null|            0|@VirginAmerica I ...|[40.74804263, -73...|2015-02-24 08:49:...|                null|                null|\n",
            "|570259420287868928|         positive|                         1.0|                null|                     null|Virgin America|                  null|     ElvinaBeck|               null|            0|@VirginAmerica I ...|                null|2015-02-24 08:30:...|         Los Angeles|Pacific Time (US ...|\n",
            "|570258822297579520|          neutral|                         1.0|                null|                     null|Virgin America|                  null|   rjlynch21086|               null|            0|@VirginAmerica wi...|                null|2015-02-24 08:27:...|         Boston, MA |Eastern Time (US ...|\n",
            "|570256553502068736|         negative|                         1.0|Customer Service ...|                   0.3557|Virgin America|                  null|    ayeevickiee|               null|            0|@VirginAmerica yo...|                null|2015-02-24 08:18:...|                 714|Mountain Time (US...|\n",
            "|570249102404923392|         negative|                         1.0|Customer Service ...|                      1.0|Virgin America|                  null|        Leora13|               null|            0|@VirginAmerica st...|                null|2015-02-24 07:49:...|                null|                null|\n",
            "|570239632807370753|         negative|                         1.0|          Can't Tell|                   0.6614|Virgin America|                  null|  meredithjlynn|               null|            0|@VirginAmerica Wh...|                null|2015-02-24 07:11:...|                null|                null|\n",
            "|570217831557677057|          neutral|                      0.6854|                null|                     null|Virgin America|                  null|     AdamSinger|               null|            0|@VirginAmerica do...|                null|2015-02-24 05:44:...|   San Francisco, CA|Central Time (US ...|\n",
            "|570207886493782019|         negative|                         1.0|          Bad Flight|                      1.0|Virgin America|                  null|blackjackpro911|               null|            0|@VirginAmerica am...|[42.361016, -71.0...|2015-02-24 05:05:...|San Mateo, CA & L...|                null|\n",
            "|570124596180955136|          neutral|                       0.615|                null|                      0.0|Virgin America|                  null|TenantsUpstairs|               null|            0|@VirginAmerica LA...|[33.94540417, -11...|2015-02-23 23:34:...|            Brooklyn|Atlantic Time (Ca...|\n",
            "|570114021854212096|         negative|                         1.0|Flight Booking Pr...|                      1.0|Virgin America|                  null|  jordanpichler|               null|            0|@VirginAmerica hi...|                null|2015-02-23 22:52:...|                null|              Vienna|\n",
            "|570094701371469825|          neutral|                         1.0|                null|                     null|Virgin America|                  null|   JCervantezzz|               null|            0|@VirginAmerica Ar...|                null|2015-02-23 21:35:...|California, San F...|Pacific Time (US ...|\n",
            "|570088404156698625|         negative|                         1.0|Customer Service ...|                      1.0|Virgin America|                  null|    Cuschoolie1|               null|            0|@VirginAmerica he...|[33.94209449, -11...|2015-02-23 21:10:...|       Washington DC|               Quito|\n",
            "|570084582780899328|         negative|                         1.0|Customer Service ...|                      1.0|Virgin America|                  null| amanduhmccarty|               null|            0|@VirginAmerica aw...|                null|2015-02-23 20:55:...|                null|Pacific Time (US ...|\n",
            "|570076792993611776|         positive|                         1.0|                null|                     null|Virgin America|                  null|NorthTxHomeTeam|               null|            0|@VirginAmerica th...|[33.2145038, -96....|2015-02-23 20:24:...|               Texas|Central Time (US ...|\n",
            "|570051991277342720|          neutral|                      0.6207|                null|                     null|Virgin America|                  null|    miaerolinea|               null|            0|Nice RT @VirginAm...|                null|2015-02-23 18:46:...|           Worldwide|             Caracas|\n",
            "|570051381534396416|         positive|                         1.0|                null|                     null|Virgin America|                  null|      Nicsplace|               null|            0|@VirginAmerica Mo...|                null|2015-02-23 18:43:...|       Central Texas|                null|\n",
            "|570045393565691904|         positive|                         1.0|                null|                     null|Virgin America|                  null|      Nicsplace|               null|            0|@VirginAmerica @f...|                null|2015-02-23 18:19:...|       Central Texas|                null|\n",
            "|570038941497192448|          neutral|                      0.6791|                null|                      0.0|Virgin America|                  null|elisha_malulani|               null|            0|@VirginAmerica wh...|                null|2015-02-23 17:54:...|i'm creating a mo...|Pacific Time (US ...|\n",
            "|570035876845084672|         negative|                         1.0|Customer Service ...|                      1.0|Virgin America|                  null|  DannyDouglass|               null|            0|@VirginAmerica Yo...|                null|2015-02-23 17:41:...|   San Francisco, CA|Pacific Time (US ...|\n",
            "|570033593394667521|         positive|                      0.6639|                null|                     null|Virgin America|                  null|jamesferrandini|               null|            0|@VirginAmerica Vi...|                null|2015-02-23 17:32:...|                null|                null|\n",
            "|570025482344898560|         negative|                      0.6688|Flight Booking Pr...|                   0.6688|Virgin America|                  null|  will_lenzenjr|               null|            0|@VirginAmerica He...|                null|2015-02-23 17:00:...|           Iowa City|Central Time (US ...|\n",
            "|570016304284901379|          neutral|                         1.0|                null|                     null|Virgin America|                  null|     GottAmanda|               null|            0|@VirginAmerica pl...|[34.0219817, -118...|2015-02-23 16:24:...|         Los Angeles|                null|\n",
            "|570015408788414464|          neutral|                      0.6578|                null|                      0.0|Virgin America|                  null|      KGervaise|               null|            0|@VirginAmerica I ...|                null|2015-02-23 16:20:...|             Georgia|Pacific Time (US ...|\n",
            "|570013523650048002|          neutral|                         1.0|                null|                     null|Virgin America|                  null|      papamurat|               null|            0|@VirginAmerica ar...|                null|2015-02-23 16:13:...|                null|                null|\n",
            "|570012257549070337|         positive|                         1.0|                null|                     null|Virgin America|                  null|      arieldaie|               null|            0|@VirginAmerica I'...|                null|2015-02-23 16:08:...|         Los Angeles|                null|\n",
            "|570011341483843584|          neutral|                      0.6799|                null|                     null|Virgin America|                  null|     vacations7|               null|            0|@VirginAmerica  D...|                null|2015-02-23 16:04:...|    Turks and caicos|                null|\n",
            "|570010571707256832|         positive|                         1.0|                null|                     null|Virgin America|                  null|  ChelseaPoe666|               null|            0|@VirginAmerica wo...|                null|2015-02-23 16:01:...|Oakland via Midwest |Atlantic Time (Ca...|\n",
            "|570010539499393025|          neutral|                         1.0|                null|                     null|Virgin America|                  null|    BobGlavinVO|               null|            0|@VirginAmerica @l...|                null|2015-02-23 16:01:...|        New York, NY|Eastern Time (US ...|\n",
            "|570009713447825408|          neutral|                      0.6436|                null|                     null|Virgin America|                  null|       lisaaiko|               null|            0|@VirginAmerica @l...|                null|2015-02-23 15:58:...|                null|                null|\n",
            "|570009035455344640|          neutral|                      0.6764|                null|                      0.0|Virgin America|                  null|    grantbrowne|               null|            0|\"@VirginAmerica I...|                null|2015-02-23 15:55:...|           Worldwide|Central Time (US ...|\n",
            "|570006886012973056|         positive|                       0.657|                null|                     null|Virgin America|                  null|     joyabsalon|               null|            0|@VirginAmerica @l...|                null|2015-02-23 15:46:...|   Northern Virginia|Eastern Time (US ...|\n",
            "|570004391731847169|          neutral|                         1.0|                null|                     null|Virgin America|                  null|             2v|               null|            0|@VirginAmerica wi...|                null|2015-02-23 15:36:...|Los Angeles / Atl...|Eastern Time (US ...|\n",
            "|570001194900426752|          neutral|                      0.7118|                null|                      0.0|Virgin America|                  null|KSmithFoundHere|               null|            0|@VirginAmerica @l...|                null|2015-02-23 15:24:...|                null|Atlantic Time (Ca...|\n",
            "|570000071644872704|          neutral|                         1.0|                null|                     null|Virgin America|                  null|      papamurat|               null|            0|@VirginAmerica Wi...|                null|2015-02-23 15:19:...|                null|                null|\n",
            "|569996412286582784|         negative|                      0.6939|Flight Booking Pr...|                   0.6939|Virgin America|                  null|      murphicus|               null|            0|@VirginAmerica hi...|                null|2015-02-23 15:05:...|  new york, new york|Eastern Time (US ...|\n",
            "|569996245462159361|         positive|                         1.0|                null|                     null|Virgin America|                  null|    VinnieFerra|               null|            0|@VirginAmerica yo...|                null|2015-02-23 15:04:...|        brooklyn, Ny|Pacific Time (US ...|\n",
            "|569990222609412097|         positive|                       0.635|                null|                     null|Virgin America|                  null|     KevinDemsi|               null|            0|@VirginAmerica @l...|                null|2015-02-23 14:40:...|Bali, Republic of...|        Kuala Lumpur|\n",
            "|569990163209850881|          neutral|                      0.7007|                null|                     null|Virgin America|                  null|    giffgaffman|               null|            0|@VirginAmerica @l...|                null|2015-02-23 14:40:...|           UK, USA. |                null|\n",
            "|569989504431316993|          neutral|                         1.0|                null|                     null|Virgin America|                  null| HanlonBrothers|               null|            0|@VirginAmerica Ne...|                null|2015-02-23 14:37:...|Gold Coast, Austr...|            Brisbane|\n",
            "+------------------+-----------------+----------------------------+--------------------+-------------------------+--------------+----------------------+---------------+-------------------+-------------+--------------------+--------------------+--------------------+--------------------+--------------------+\n",
            "only showing top 60 rows\n",
            "\n"
          ],
          "name": "stdout"
        }
      ]
    },
    {
      "cell_type": "code",
      "metadata": {
        "colab": {
          "base_uri": "https://localhost:8080/"
        },
        "id": "AKECjeZnyGCM",
        "outputId": "36a8383f-1fb0-4f64-aa72-6668352c26b9"
      },
      "source": [
        "from pyspark.sql.functions import length\n",
        "\n",
        "data_df = df.withColumn('length', length(df['text']))\n",
        "data_df.show()"
      ],
      "execution_count": null,
      "outputs": [
        {
          "output_type": "stream",
          "text": [
            "+------------------+-----------------+----------------------------+--------------+-------------------------+--------------+----------------------+---------------+-------------------+-------------+--------------------+-----------+--------------------+--------------------+--------------------+------+\n",
            "|          tweet_id|airline_sentiment|airline_sentiment_confidence|negativereason|negativereason_confidence|       airline|airline_sentiment_gold|           name|negativereason_gold|retweet_count|                text|tweet_coord|       tweet_created|      tweet_location|       user_timezone|length|\n",
            "+------------------+-----------------+----------------------------+--------------+-------------------------+--------------+----------------------+---------------+-------------------+-------------+--------------------+-----------+--------------------+--------------------+--------------------+------+\n",
            "|570306133677760513|          neutral|                         1.0|          null|                     null|Virgin America|                  null|        cairdin|               null|            0|@VirginAmerica Wh...|       null|2015-02-24 11:35:...|                null|Eastern Time (US ...|    35|\n",
            "|570301130888122368|         positive|                      0.3486|          null|                      0.0|Virgin America|                  null|       jnardino|               null|            0|@VirginAmerica pl...|       null|2015-02-24 11:15:...|                null|Pacific Time (US ...|    72|\n",
            "|570301083672813571|          neutral|                      0.6837|          null|                     null|Virgin America|                  null|     yvonnalynn|               null|            0|@VirginAmerica I ...|       null|2015-02-24 11:15:...|           Lets Play|Central Time (US ...|    71|\n",
            "|570301031407624196|         negative|                         1.0|    Bad Flight|                   0.7033|Virgin America|                  null|       jnardino|               null|            0|\"@VirginAmerica i...|       null|2015-02-24 11:15:...|                null|Pacific Time (US ...|   130|\n",
            "|570300817074462722|         negative|                         1.0|    Can't Tell|                      1.0|Virgin America|                  null|       jnardino|               null|            0|@VirginAmerica an...|       null|2015-02-24 11:14:...|                null|Pacific Time (US ...|    55|\n",
            "|570300767074181121|         negative|                         1.0|    Can't Tell|                   0.6842|Virgin America|                  null|       jnardino|               null|            0|@VirginAmerica se...|       null|                null|                null|                null|    88|\n",
            "|570300616901320704|         positive|                      0.6745|          null|                      0.0|Virgin America|                  null|     cjmcginnis|               null|            0|@VirginAmerica ye...|       null|2015-02-24 11:13:...|    San Francisco CA|Pacific Time (US ...|    79|\n",
            "|570300248553349120|          neutral|                       0.634|          null|                     null|Virgin America|                  null|          pilot|               null|            0|@VirginAmerica Re...|       null|2015-02-24 11:12:...|         Los Angeles|Pacific Time (US ...|   108|\n",
            "|570299953286942721|         positive|                      0.6559|          null|                     null|Virgin America|                  null|       dhepburn|               null|            0|@virginamerica We...|       null|2015-02-24 11:11:...|           San Diego|Pacific Time (US ...|    47|\n",
            "|570295459631263746|         positive|                         1.0|          null|                     null|Virgin America|                  null|     YupitsTate|               null|            0|@VirginAmerica it...|       null|2015-02-24 10:53:...|         Los Angeles|Eastern Time (US ...|    80|\n",
            "|570294189143031808|          neutral|                      0.6769|          null|                      0.0|Virgin America|                  null|idk_but_youtube|               null|            0|@VirginAmerica di...|       null|2015-02-24 10:48:...|     1/1 loner squad|Eastern Time (US ...|    95|\n",
            "|570289724453216256|         positive|                         1.0|          null|                     null|Virgin America|                  null|   HyperCamiLax|               null|            0|@VirginAmerica I ...|       null|2015-02-24 10:30:...|                 NYC|    America/New_York|    83|\n",
            "|570289584061480960|         positive|                         1.0|          null|                     null|Virgin America|                  null|   HyperCamiLax|               null|            0|@VirginAmerica Th...|       null|2015-02-24 10:30:...|                 NYC|    America/New_York|   139|\n",
            "|570287408438120448|         positive|                      0.6451|          null|                     null|Virgin America|                  null|   mollanderson|               null|            0|@VirginAmerica @v...|       null|2015-02-24 10:21:...|                null|Eastern Time (US ...|   140|\n",
            "|570285904809598977|         positive|                         1.0|          null|                     null|Virgin America|                  null|       sjespers|               null|            0|@VirginAmerica Th...|       null|2015-02-24 10:15:...|   San Francisco, CA|Pacific Time (US ...|    22|\n",
            "|570282469121007616|         negative|                      0.6842|   Late Flight|                   0.3684|Virgin America|                  null|smartwatermelon|               null|            0|@VirginAmerica SF...|       null|2015-02-24 10:01:...|       palo alto, ca|Pacific Time (US ...|    45|\n",
            "|570277724385734656|         positive|                         1.0|          null|                     null|Virgin America|                  null|  ItzBrianHunty|               null|            0|@VirginAmerica So...|       null|2015-02-24 09:42:...|         west covina|Pacific Time (US ...|   140|\n",
            "|570276917301137409|         negative|                         1.0|    Bad Flight|                      1.0|Virgin America|                  null|  heatherovieda|               null|            0|@VirginAmerica  I...|       null|2015-02-24 09:39:...|this place called...|Eastern Time (US ...|   137|\n",
            "|570270684619923457|         positive|                         1.0|          null|                     null|Virgin America|                  null|   thebrandiray|               null|            0|I ❤️ flying @Virg...|       null|2015-02-24 09:15:...|Somewhere celebra...|Atlantic Time (Ca...|    31|\n",
            "|570267956648792064|         positive|                         1.0|          null|                     null|Virgin America|                  null|      JNLpierce|               null|            0|@VirginAmerica yo...|       null|2015-02-24 09:04:...|    Boston | Waltham|               Quito|   107|\n",
            "+------------------+-----------------+----------------------------+--------------+-------------------------+--------------+----------------------+---------------+-------------------+-------------+--------------------+-----------+--------------------+--------------------+--------------------+------+\n",
            "only showing top 20 rows\n",
            "\n"
          ],
          "name": "stdout"
        }
      ]
    },
    {
      "cell_type": "code",
      "metadata": {
        "colab": {
          "base_uri": "https://localhost:8080/"
        },
        "id": "H_qZN6W46PEV",
        "outputId": "2b407149-9378-49f4-af1d-f4cd9444b294"
      },
      "source": [
        "# Tokenize DataFrame\n",
        "tokened = Tokenizer(inputCol=\"text\", outputCol=\"words\")\n",
        "tokened_transformed = tokened.transform(df)\n",
        "tokened_transformed.show()"
      ],
      "execution_count": null,
      "outputs": [
        {
          "output_type": "stream",
          "text": [
            "+------------------+-----------------+----------------------------+--------------+-------------------------+--------------+----------------------+---------------+-------------------+-------------+--------------------+-----------+--------------------+--------------------+--------------------+--------------------+\n",
            "|          tweet_id|airline_sentiment|airline_sentiment_confidence|negativereason|negativereason_confidence|       airline|airline_sentiment_gold|           name|negativereason_gold|retweet_count|                text|tweet_coord|       tweet_created|      tweet_location|       user_timezone|               words|\n",
            "+------------------+-----------------+----------------------------+--------------+-------------------------+--------------+----------------------+---------------+-------------------+-------------+--------------------+-----------+--------------------+--------------------+--------------------+--------------------+\n",
            "|570306133677760513|          neutral|                         1.0|          null|                     null|Virgin America|                  null|        cairdin|               null|            0|@VirginAmerica Wh...|       null|2015-02-24 11:35:...|                null|Eastern Time (US ...|[@virginamerica, ...|\n",
            "|570301130888122368|         positive|                      0.3486|          null|                      0.0|Virgin America|                  null|       jnardino|               null|            0|@VirginAmerica pl...|       null|2015-02-24 11:15:...|                null|Pacific Time (US ...|[@virginamerica, ...|\n",
            "|570301083672813571|          neutral|                      0.6837|          null|                     null|Virgin America|                  null|     yvonnalynn|               null|            0|@VirginAmerica I ...|       null|2015-02-24 11:15:...|           Lets Play|Central Time (US ...|[@virginamerica, ...|\n",
            "|570301031407624196|         negative|                         1.0|    Bad Flight|                   0.7033|Virgin America|                  null|       jnardino|               null|            0|\"@VirginAmerica i...|       null|2015-02-24 11:15:...|                null|Pacific Time (US ...|[\"@virginamerica,...|\n",
            "|570300817074462722|         negative|                         1.0|    Can't Tell|                      1.0|Virgin America|                  null|       jnardino|               null|            0|@VirginAmerica an...|       null|2015-02-24 11:14:...|                null|Pacific Time (US ...|[@virginamerica, ...|\n",
            "|570300767074181121|         negative|                         1.0|    Can't Tell|                   0.6842|Virgin America|                  null|       jnardino|               null|            0|@VirginAmerica se...|       null|                null|                null|                null|[@virginamerica, ...|\n",
            "|570300616901320704|         positive|                      0.6745|          null|                      0.0|Virgin America|                  null|     cjmcginnis|               null|            0|@VirginAmerica ye...|       null|2015-02-24 11:13:...|    San Francisco CA|Pacific Time (US ...|[@virginamerica, ...|\n",
            "|570300248553349120|          neutral|                       0.634|          null|                     null|Virgin America|                  null|          pilot|               null|            0|@VirginAmerica Re...|       null|2015-02-24 11:12:...|         Los Angeles|Pacific Time (US ...|[@virginamerica, ...|\n",
            "|570299953286942721|         positive|                      0.6559|          null|                     null|Virgin America|                  null|       dhepburn|               null|            0|@virginamerica We...|       null|2015-02-24 11:11:...|           San Diego|Pacific Time (US ...|[@virginamerica, ...|\n",
            "|570295459631263746|         positive|                         1.0|          null|                     null|Virgin America|                  null|     YupitsTate|               null|            0|@VirginAmerica it...|       null|2015-02-24 10:53:...|         Los Angeles|Eastern Time (US ...|[@virginamerica, ...|\n",
            "|570294189143031808|          neutral|                      0.6769|          null|                      0.0|Virgin America|                  null|idk_but_youtube|               null|            0|@VirginAmerica di...|       null|2015-02-24 10:48:...|     1/1 loner squad|Eastern Time (US ...|[@virginamerica, ...|\n",
            "|570289724453216256|         positive|                         1.0|          null|                     null|Virgin America|                  null|   HyperCamiLax|               null|            0|@VirginAmerica I ...|       null|2015-02-24 10:30:...|                 NYC|    America/New_York|[@virginamerica, ...|\n",
            "|570289584061480960|         positive|                         1.0|          null|                     null|Virgin America|                  null|   HyperCamiLax|               null|            0|@VirginAmerica Th...|       null|2015-02-24 10:30:...|                 NYC|    America/New_York|[@virginamerica, ...|\n",
            "|570287408438120448|         positive|                      0.6451|          null|                     null|Virgin America|                  null|   mollanderson|               null|            0|@VirginAmerica @v...|       null|2015-02-24 10:21:...|                null|Eastern Time (US ...|[@virginamerica, ...|\n",
            "|570285904809598977|         positive|                         1.0|          null|                     null|Virgin America|                  null|       sjespers|               null|            0|@VirginAmerica Th...|       null|2015-02-24 10:15:...|   San Francisco, CA|Pacific Time (US ...|[@virginamerica, ...|\n",
            "|570282469121007616|         negative|                      0.6842|   Late Flight|                   0.3684|Virgin America|                  null|smartwatermelon|               null|            0|@VirginAmerica SF...|       null|2015-02-24 10:01:...|       palo alto, ca|Pacific Time (US ...|[@virginamerica, ...|\n",
            "|570277724385734656|         positive|                         1.0|          null|                     null|Virgin America|                  null|  ItzBrianHunty|               null|            0|@VirginAmerica So...|       null|2015-02-24 09:42:...|         west covina|Pacific Time (US ...|[@virginamerica, ...|\n",
            "|570276917301137409|         negative|                         1.0|    Bad Flight|                      1.0|Virgin America|                  null|  heatherovieda|               null|            0|@VirginAmerica  I...|       null|2015-02-24 09:39:...|this place called...|Eastern Time (US ...|[@virginamerica, ...|\n",
            "|570270684619923457|         positive|                         1.0|          null|                     null|Virgin America|                  null|   thebrandiray|               null|            0|I ❤️ flying @Virg...|       null|2015-02-24 09:15:...|Somewhere celebra...|Atlantic Time (Ca...|[i, ❤️, flying, @...|\n",
            "|570267956648792064|         positive|                         1.0|          null|                     null|Virgin America|                  null|      JNLpierce|               null|            0|@VirginAmerica yo...|       null|2015-02-24 09:04:...|    Boston | Waltham|               Quito|[@virginamerica, ...|\n",
            "+------------------+-----------------+----------------------------+--------------+-------------------------+--------------+----------------------+---------------+-------------------+-------------+--------------------+-----------+--------------------+--------------------+--------------------+--------------------+\n",
            "only showing top 20 rows\n",
            "\n"
          ],
          "name": "stdout"
        }
      ]
    },
    {
      "cell_type": "code",
      "metadata": {
        "colab": {
          "base_uri": "https://localhost:8080/"
        },
        "id": "BhxRT_Mm7Buy",
        "outputId": "00c8c7a1-f7fa-4149-9d6d-28d47a6a2129"
      },
      "source": [
        "# Remove stop words\n",
        "remover = StopWordsRemover(inputCol=\"words\", outputCol=\"filtered\")\n",
        "removed_frame = remover.transform(tokened_transformed)\n",
        "removed_frame.show(truncate=False)"
      ],
      "execution_count": null,
      "outputs": [
        {
          "output_type": "stream",
          "text": [
            "+------------------+-----------------+----------------------------+--------------+-------------------------+--------------+----------------------+---------------+-------------------+-------------+--------------------------------------------------------------------------------------------------------------------------------------------+-----------+-------------------------+----------------------------+--------------------------+----------------------------------------------------------------------------------------------------------------------------------------------------------------------+------------------------------------------------------------------------------------------------------------------------------------+\n",
            "|tweet_id          |airline_sentiment|airline_sentiment_confidence|negativereason|negativereason_confidence|airline       |airline_sentiment_gold|name           |negativereason_gold|retweet_count|text                                                                                                                                        |tweet_coord|tweet_created            |tweet_location              |user_timezone             |words                                                                                                                                                                 |filtered                                                                                                                            |\n",
            "+------------------+-----------------+----------------------------+--------------+-------------------------+--------------+----------------------+---------------+-------------------+-------------+--------------------------------------------------------------------------------------------------------------------------------------------+-----------+-------------------------+----------------------------+--------------------------+----------------------------------------------------------------------------------------------------------------------------------------------------------------------+------------------------------------------------------------------------------------------------------------------------------------+\n",
            "|570306133677760513|neutral          |1.0                         |null          |null                     |Virgin America|null                  |cairdin        |null               |0            |@VirginAmerica What @dhepburn said.                                                                                                         |null       |2015-02-24 11:35:52 -0800|null                        |Eastern Time (US & Canada)|[@virginamerica, what, @dhepburn, said.]                                                                                                                              |[@virginamerica, @dhepburn, said.]                                                                                                  |\n",
            "|570301130888122368|positive         |0.3486                      |null          |0.0                      |Virgin America|null                  |jnardino       |null               |0            |@VirginAmerica plus you've added commercials to the experience... tacky.                                                                    |null       |2015-02-24 11:15:59 -0800|null                        |Pacific Time (US & Canada)|[@virginamerica, plus, you've, added, commercials, to, the, experience..., tacky.]                                                                                    |[@virginamerica, plus, added, commercials, experience..., tacky.]                                                                   |\n",
            "|570301083672813571|neutral          |0.6837                      |null          |null                     |Virgin America|null                  |yvonnalynn     |null               |0            |@VirginAmerica I didn't today... Must mean I need to take another trip!                                                                     |null       |2015-02-24 11:15:48 -0800|Lets Play                   |Central Time (US & Canada)|[@virginamerica, i, didn't, today..., must, mean, i, need, to, take, another, trip!]                                                                                  |[@virginamerica, today..., must, mean, need, take, another, trip!]                                                                  |\n",
            "|570301031407624196|negative         |1.0                         |Bad Flight    |0.7033                   |Virgin America|null                  |jnardino       |null               |0            |\"@VirginAmerica it's really aggressive to blast obnoxious \"\"entertainment\"\" in your guests' faces &amp; they have little recourse\"          |null       |2015-02-24 11:15:36 -0800|null                        |Pacific Time (US & Canada)|[\"@virginamerica, it's, really, aggressive, to, blast, obnoxious, \"\"entertainment\"\", in, your, guests', faces, &amp;, they, have, little, recourse\"]                  |[\"@virginamerica, really, aggressive, blast, obnoxious, \"\"entertainment\"\", guests', faces, &amp;, little, recourse\"]                |\n",
            "|570300817074462722|negative         |1.0                         |Can't Tell    |1.0                      |Virgin America|null                  |jnardino       |null               |0            |@VirginAmerica and it's a really big bad thing about it                                                                                     |null       |2015-02-24 11:14:45 -0800|null                        |Pacific Time (US & Canada)|[@virginamerica, and, it's, a, really, big, bad, thing, about, it]                                                                                                    |[@virginamerica, really, big, bad, thing]                                                                                           |\n",
            "|570300767074181121|negative         |1.0                         |Can't Tell    |0.6842                   |Virgin America|null                  |jnardino       |null               |0            |@VirginAmerica seriously would pay $30 a flight for seats that didn't have this playing.                                                    |null       |null                     |null                        |null                      |[@virginamerica, seriously, would, pay, $30, a, flight, for, seats, that, didn't, have, this, playing.]                                                               |[@virginamerica, seriously, pay, $30, flight, seats, playing.]                                                                      |\n",
            "|570300616901320704|positive         |0.6745                      |null          |0.0                      |Virgin America|null                  |cjmcginnis     |null               |0            |@VirginAmerica yes, nearly every time I fly VX this “ear worm” won’t go away :)                                                             |null       |2015-02-24 11:13:57 -0800|San Francisco CA            |Pacific Time (US & Canada)|[@virginamerica, yes,, nearly, every, time, i, fly, vx, this, “ear, worm”, won’t, go, away, :)]                                                                       |[@virginamerica, yes,, nearly, every, time, fly, vx, “ear, worm”, won’t, go, away, :)]                                              |\n",
            "|570300248553349120|neutral          |0.634                       |null          |null                     |Virgin America|null                  |pilot          |null               |0            |@VirginAmerica Really missed a prime opportunity for Men Without Hats parody, there. https://t.co/mWpG7grEZP                                |null       |2015-02-24 11:12:29 -0800|Los Angeles                 |Pacific Time (US & Canada)|[@virginamerica, really, missed, a, prime, opportunity, for, men, without, hats, parody,, there., https://t.co/mwpg7grezp]                                            |[@virginamerica, really, missed, prime, opportunity, men, without, hats, parody,, there., https://t.co/mwpg7grezp]                  |\n",
            "|570299953286942721|positive         |0.6559                      |null          |null                     |Virgin America|null                  |dhepburn       |null               |0            |@virginamerica Well, I didn't…but NOW I DO! :-D                                                                                             |null       |2015-02-24 11:11:19 -0800|San Diego                   |Pacific Time (US & Canada)|[@virginamerica, well,, i, didn't…but, now, i, do!, :-d]                                                                                                              |[@virginamerica, well,, didn't…but, do!, :-d]                                                                                       |\n",
            "|570295459631263746|positive         |1.0                         |null          |null                     |Virgin America|null                  |YupitsTate     |null               |0            |@VirginAmerica it was amazing, and arrived an hour early. You're too good to me.                                                            |null       |2015-02-24 10:53:27 -0800|Los Angeles                 |Eastern Time (US & Canada)|[@virginamerica, it, was, amazing,, and, arrived, an, hour, early., you're, too, good, to, me.]                                                                       |[@virginamerica, amazing,, arrived, hour, early., good, me.]                                                                        |\n",
            "|570294189143031808|neutral          |0.6769                      |null          |0.0                      |Virgin America|null                  |idk_but_youtube|null               |0            |@VirginAmerica did you know that suicide is the second leading cause of death among teens 10-24                                             |null       |2015-02-24 10:48:24 -0800|1/1 loner squad             |Eastern Time (US & Canada)|[@virginamerica, did, you, know, that, suicide, is, the, second, leading, cause, of, death, among, teens, 10-24]                                                      |[@virginamerica, know, suicide, second, leading, cause, death, among, teens, 10-24]                                                 |\n",
            "|570289724453216256|positive         |1.0                         |null          |null                     |Virgin America|null                  |HyperCamiLax   |null               |0            |@VirginAmerica I &lt;3 pretty graphics. so much better than minimal iconography. :D                                                         |null       |2015-02-24 10:30:40 -0800|NYC                         |America/New_York          |[@virginamerica, i, &lt;3, pretty, graphics., so, much, better, than, minimal, iconography., :d]                                                                      |[@virginamerica, &lt;3, pretty, graphics., much, better, minimal, iconography., :d]                                                 |\n",
            "|570289584061480960|positive         |1.0                         |null          |null                     |Virgin America|null                  |HyperCamiLax   |null               |0            |@VirginAmerica This is such a great deal! Already thinking about my 2nd trip to @Australia &amp; I haven't even gone on my 1st trip yet! ;p |null       |2015-02-24 10:30:06 -0800|NYC                         |America/New_York          |[@virginamerica, this, is, such, a, great, deal!, already, thinking, about, my, 2nd, trip, to, @australia, &amp;, i, haven't, even, gone, on, my, 1st, trip, yet!, ;p]|[@virginamerica, great, deal!, already, thinking, 2nd, trip, @australia, &amp;, even, gone, 1st, trip, yet!, ;p]                    |\n",
            "|570287408438120448|positive         |0.6451                      |null          |null                     |Virgin America|null                  |mollanderson   |null               |0            |@VirginAmerica @virginmedia I'm flying your #fabulous #Seductive skies again! U take all the #stress away from travel http://t.co/ahlXHhKiyn|null       |2015-02-24 10:21:28 -0800|null                        |Eastern Time (US & Canada)|[@virginamerica, @virginmedia, i'm, flying, your, #fabulous, #seductive, skies, again!, u, take, all, the, #stress, away, from, travel, http://t.co/ahlxhhkiyn]       |[@virginamerica, @virginmedia, flying, #fabulous, #seductive, skies, again!, u, take, #stress, away, travel, http://t.co/ahlxhhkiyn]|\n",
            "|570285904809598977|positive         |1.0                         |null          |null                     |Virgin America|null                  |sjespers       |null               |0            |@VirginAmerica Thanks!                                                                                                                      |null       |2015-02-24 10:15:29 -0800|San Francisco, CA           |Pacific Time (US & Canada)|[@virginamerica, thanks!]                                                                                                                                             |[@virginamerica, thanks!]                                                                                                           |\n",
            "|570282469121007616|negative         |0.6842                      |Late Flight   |0.3684                   |Virgin America|null                  |smartwatermelon|null               |0            |@VirginAmerica SFO-PDX schedule is still MIA.                                                                                               |null       |2015-02-24 10:01:50 -0800|palo alto, ca               |Pacific Time (US & Canada)|[@virginamerica, sfo-pdx, schedule, is, still, mia.]                                                                                                                  |[@virginamerica, sfo-pdx, schedule, still, mia.]                                                                                    |\n",
            "|570277724385734656|positive         |1.0                         |null          |null                     |Virgin America|null                  |ItzBrianHunty  |null               |0            |@VirginAmerica So excited for my first cross country flight LAX to MCO I've heard nothing but great things about Virgin America. #29DaysToGo|null       |2015-02-24 09:42:59 -0800|west covina                 |Pacific Time (US & Canada)|[@virginamerica, so, excited, for, my, first, cross, country, flight, lax, to, mco, i've, heard, nothing, but, great, things, about, virgin, america., #29daystogo]   |[@virginamerica, excited, first, cross, country, flight, lax, mco, heard, nothing, great, things, virgin, america., #29daystogo]    |\n",
            "|570276917301137409|negative         |1.0                         |Bad Flight    |1.0                      |Virgin America|null                  |heatherovieda  |null               |0            |@VirginAmerica  I flew from NYC to SFO last week and couldn't fully sit in my seat due to two large gentleman on either side of me. HELP!   |null       |2015-02-24 09:39:46 -0800|this place called NYC       |Eastern Time (US & Canada)|[@virginamerica, , i, flew, from, nyc, to, sfo, last, week, and, couldn't, fully, sit, in, my, seat, due, to, two, large, gentleman, on, either, side, of, me., help!]|[@virginamerica, , flew, nyc, sfo, last, week, fully, sit, seat, due, two, large, gentleman, either, side, me., help!]              |\n",
            "|570270684619923457|positive         |1.0                         |null          |null                     |Virgin America|null                  |thebrandiray   |null               |0            |I ❤️ flying @VirginAmerica. ☺️👍                                                                                                            |null       |2015-02-24 09:15:00 -0800|Somewhere celebrating life. |Atlantic Time (Canada)    |[i, ❤️, flying, @virginamerica., ☺️👍]                                                                                                                                |[❤️, flying, @virginamerica., ☺️👍]                                                                                                 |\n",
            "|570267956648792064|positive         |1.0                         |null          |null                     |Virgin America|null                  |JNLpierce      |null               |0            |@VirginAmerica you know what would be amazingly awesome? BOS-FLL PLEASE!!!!!!! I want to fly with only you.                                 |null       |2015-02-24 09:04:10 -0800|Boston | Waltham            |Quito                     |[@virginamerica, you, know, what, would, be, amazingly, awesome?, bos-fll, please!!!!!!!, i, want, to, fly, with, only, you.]                                         |[@virginamerica, know, amazingly, awesome?, bos-fll, please!!!!!!!, want, fly, you.]                                                |\n",
            "+------------------+-----------------+----------------------------+--------------+-------------------------+--------------+----------------------+---------------+-------------------+-------------+--------------------------------------------------------------------------------------------------------------------------------------------+-----------+-------------------------+----------------------------+--------------------------+----------------------------------------------------------------------------------------------------------------------------------------------------------------------+------------------------------------------------------------------------------------------------------------------------------------+\n",
            "only showing top 20 rows\n",
            "\n"
          ],
          "name": "stdout"
        }
      ]
    },
    {
      "cell_type": "code",
      "metadata": {
        "colab": {
          "base_uri": "https://localhost:8080/"
        },
        "id": "YTgzfK7u8oDU",
        "outputId": "3b1c2f4b-c297-4923-8ee1-16330689a67f"
      },
      "source": [
        "# Remove stop words\n",
        "stop_list = [\"@united\",\"@jetblue's\",\"@\",\"@VirginAmerica\", \"@virginamerica\",\"@AmericanAir\",\"@JetBlue\",\"@jetblue\",\"@DeltaAssist\",\"@SouthwestAir\",\"@united\",\"@United\",\"airlines\",\"Airlines\",\"@USAirways\",\"@usairways\"]\n",
        "remover = StopWordsRemover(inputCol=\"filtered\", outputCol=\"filtered_new\", stopWords=stop_list)\n",
        "removed_frame_new = remover.transform(removed_frame)\n",
        "removed_frame_new.show(truncate=False)"
      ],
      "execution_count": null,
      "outputs": [
        {
          "output_type": "stream",
          "text": [
            "+------------------+-----------------+----------------------------+--------------+-------------------------+--------------+----------------------+---------------+-------------------+-------------+--------------------------------------------------------------------------------------------------------------------------------------------+-----------+-------------------------+----------------------------+--------------------------+----------------------------------------------------------------------------------------------------------------------------------------------------------------------+------------------------------------------------------------------------------------------------------------------------------------+--------------------------------------------------------------------------------------------------------------------+\n",
            "|tweet_id          |airline_sentiment|airline_sentiment_confidence|negativereason|negativereason_confidence|airline       |airline_sentiment_gold|name           |negativereason_gold|retweet_count|text                                                                                                                                        |tweet_coord|tweet_created            |tweet_location              |user_timezone             |words                                                                                                                                                                 |filtered                                                                                                                            |filtered_new                                                                                                        |\n",
            "+------------------+-----------------+----------------------------+--------------+-------------------------+--------------+----------------------+---------------+-------------------+-------------+--------------------------------------------------------------------------------------------------------------------------------------------+-----------+-------------------------+----------------------------+--------------------------+----------------------------------------------------------------------------------------------------------------------------------------------------------------------+------------------------------------------------------------------------------------------------------------------------------------+--------------------------------------------------------------------------------------------------------------------+\n",
            "|570306133677760513|neutral          |1.0                         |null          |null                     |Virgin America|null                  |cairdin        |null               |0            |@VirginAmerica What @dhepburn said.                                                                                                         |null       |2015-02-24 11:35:52 -0800|null                        |Eastern Time (US & Canada)|[@virginamerica, what, @dhepburn, said.]                                                                                                                              |[@virginamerica, @dhepburn, said.]                                                                                                  |[@dhepburn, said.]                                                                                                  |\n",
            "|570301130888122368|positive         |0.3486                      |null          |0.0                      |Virgin America|null                  |jnardino       |null               |0            |@VirginAmerica plus you've added commercials to the experience... tacky.                                                                    |null       |2015-02-24 11:15:59 -0800|null                        |Pacific Time (US & Canada)|[@virginamerica, plus, you've, added, commercials, to, the, experience..., tacky.]                                                                                    |[@virginamerica, plus, added, commercials, experience..., tacky.]                                                                   |[plus, added, commercials, experience..., tacky.]                                                                   |\n",
            "|570301083672813571|neutral          |0.6837                      |null          |null                     |Virgin America|null                  |yvonnalynn     |null               |0            |@VirginAmerica I didn't today... Must mean I need to take another trip!                                                                     |null       |2015-02-24 11:15:48 -0800|Lets Play                   |Central Time (US & Canada)|[@virginamerica, i, didn't, today..., must, mean, i, need, to, take, another, trip!]                                                                                  |[@virginamerica, today..., must, mean, need, take, another, trip!]                                                                  |[today..., must, mean, need, take, another, trip!]                                                                  |\n",
            "|570301031407624196|negative         |1.0                         |Bad Flight    |0.7033                   |Virgin America|null                  |jnardino       |null               |0            |\"@VirginAmerica it's really aggressive to blast obnoxious \"\"entertainment\"\" in your guests' faces &amp; they have little recourse\"          |null       |2015-02-24 11:15:36 -0800|null                        |Pacific Time (US & Canada)|[\"@virginamerica, it's, really, aggressive, to, blast, obnoxious, \"\"entertainment\"\", in, your, guests', faces, &amp;, they, have, little, recourse\"]                  |[\"@virginamerica, really, aggressive, blast, obnoxious, \"\"entertainment\"\", guests', faces, &amp;, little, recourse\"]                |[\"@virginamerica, really, aggressive, blast, obnoxious, \"\"entertainment\"\", guests', faces, &amp;, little, recourse\"]|\n",
            "|570300817074462722|negative         |1.0                         |Can't Tell    |1.0                      |Virgin America|null                  |jnardino       |null               |0            |@VirginAmerica and it's a really big bad thing about it                                                                                     |null       |2015-02-24 11:14:45 -0800|null                        |Pacific Time (US & Canada)|[@virginamerica, and, it's, a, really, big, bad, thing, about, it]                                                                                                    |[@virginamerica, really, big, bad, thing]                                                                                           |[really, big, bad, thing]                                                                                           |\n",
            "|570300767074181121|negative         |1.0                         |Can't Tell    |0.6842                   |Virgin America|null                  |jnardino       |null               |0            |@VirginAmerica seriously would pay $30 a flight for seats that didn't have this playing.                                                    |null       |null                     |null                        |null                      |[@virginamerica, seriously, would, pay, $30, a, flight, for, seats, that, didn't, have, this, playing.]                                                               |[@virginamerica, seriously, pay, $30, flight, seats, playing.]                                                                      |[seriously, pay, $30, flight, seats, playing.]                                                                      |\n",
            "|570300616901320704|positive         |0.6745                      |null          |0.0                      |Virgin America|null                  |cjmcginnis     |null               |0            |@VirginAmerica yes, nearly every time I fly VX this “ear worm” won’t go away :)                                                             |null       |2015-02-24 11:13:57 -0800|San Francisco CA            |Pacific Time (US & Canada)|[@virginamerica, yes,, nearly, every, time, i, fly, vx, this, “ear, worm”, won’t, go, away, :)]                                                                       |[@virginamerica, yes,, nearly, every, time, fly, vx, “ear, worm”, won’t, go, away, :)]                                              |[yes,, nearly, every, time, fly, vx, “ear, worm”, won’t, go, away, :)]                                              |\n",
            "|570300248553349120|neutral          |0.634                       |null          |null                     |Virgin America|null                  |pilot          |null               |0            |@VirginAmerica Really missed a prime opportunity for Men Without Hats parody, there. https://t.co/mWpG7grEZP                                |null       |2015-02-24 11:12:29 -0800|Los Angeles                 |Pacific Time (US & Canada)|[@virginamerica, really, missed, a, prime, opportunity, for, men, without, hats, parody,, there., https://t.co/mwpg7grezp]                                            |[@virginamerica, really, missed, prime, opportunity, men, without, hats, parody,, there., https://t.co/mwpg7grezp]                  |[really, missed, prime, opportunity, men, without, hats, parody,, there., https://t.co/mwpg7grezp]                  |\n",
            "|570299953286942721|positive         |0.6559                      |null          |null                     |Virgin America|null                  |dhepburn       |null               |0            |@virginamerica Well, I didn't…but NOW I DO! :-D                                                                                             |null       |2015-02-24 11:11:19 -0800|San Diego                   |Pacific Time (US & Canada)|[@virginamerica, well,, i, didn't…but, now, i, do!, :-d]                                                                                                              |[@virginamerica, well,, didn't…but, do!, :-d]                                                                                       |[well,, didn't…but, do!, :-d]                                                                                       |\n",
            "|570295459631263746|positive         |1.0                         |null          |null                     |Virgin America|null                  |YupitsTate     |null               |0            |@VirginAmerica it was amazing, and arrived an hour early. You're too good to me.                                                            |null       |2015-02-24 10:53:27 -0800|Los Angeles                 |Eastern Time (US & Canada)|[@virginamerica, it, was, amazing,, and, arrived, an, hour, early., you're, too, good, to, me.]                                                                       |[@virginamerica, amazing,, arrived, hour, early., good, me.]                                                                        |[amazing,, arrived, hour, early., good, me.]                                                                        |\n",
            "|570294189143031808|neutral          |0.6769                      |null          |0.0                      |Virgin America|null                  |idk_but_youtube|null               |0            |@VirginAmerica did you know that suicide is the second leading cause of death among teens 10-24                                             |null       |2015-02-24 10:48:24 -0800|1/1 loner squad             |Eastern Time (US & Canada)|[@virginamerica, did, you, know, that, suicide, is, the, second, leading, cause, of, death, among, teens, 10-24]                                                      |[@virginamerica, know, suicide, second, leading, cause, death, among, teens, 10-24]                                                 |[know, suicide, second, leading, cause, death, among, teens, 10-24]                                                 |\n",
            "|570289724453216256|positive         |1.0                         |null          |null                     |Virgin America|null                  |HyperCamiLax   |null               |0            |@VirginAmerica I &lt;3 pretty graphics. so much better than minimal iconography. :D                                                         |null       |2015-02-24 10:30:40 -0800|NYC                         |America/New_York          |[@virginamerica, i, &lt;3, pretty, graphics., so, much, better, than, minimal, iconography., :d]                                                                      |[@virginamerica, &lt;3, pretty, graphics., much, better, minimal, iconography., :d]                                                 |[&lt;3, pretty, graphics., much, better, minimal, iconography., :d]                                                 |\n",
            "|570289584061480960|positive         |1.0                         |null          |null                     |Virgin America|null                  |HyperCamiLax   |null               |0            |@VirginAmerica This is such a great deal! Already thinking about my 2nd trip to @Australia &amp; I haven't even gone on my 1st trip yet! ;p |null       |2015-02-24 10:30:06 -0800|NYC                         |America/New_York          |[@virginamerica, this, is, such, a, great, deal!, already, thinking, about, my, 2nd, trip, to, @australia, &amp;, i, haven't, even, gone, on, my, 1st, trip, yet!, ;p]|[@virginamerica, great, deal!, already, thinking, 2nd, trip, @australia, &amp;, even, gone, 1st, trip, yet!, ;p]                    |[great, deal!, already, thinking, 2nd, trip, @australia, &amp;, even, gone, 1st, trip, yet!, ;p]                    |\n",
            "|570287408438120448|positive         |0.6451                      |null          |null                     |Virgin America|null                  |mollanderson   |null               |0            |@VirginAmerica @virginmedia I'm flying your #fabulous #Seductive skies again! U take all the #stress away from travel http://t.co/ahlXHhKiyn|null       |2015-02-24 10:21:28 -0800|null                        |Eastern Time (US & Canada)|[@virginamerica, @virginmedia, i'm, flying, your, #fabulous, #seductive, skies, again!, u, take, all, the, #stress, away, from, travel, http://t.co/ahlxhhkiyn]       |[@virginamerica, @virginmedia, flying, #fabulous, #seductive, skies, again!, u, take, #stress, away, travel, http://t.co/ahlxhhkiyn]|[@virginmedia, flying, #fabulous, #seductive, skies, again!, u, take, #stress, away, travel, http://t.co/ahlxhhkiyn]|\n",
            "|570285904809598977|positive         |1.0                         |null          |null                     |Virgin America|null                  |sjespers       |null               |0            |@VirginAmerica Thanks!                                                                                                                      |null       |2015-02-24 10:15:29 -0800|San Francisco, CA           |Pacific Time (US & Canada)|[@virginamerica, thanks!]                                                                                                                                             |[@virginamerica, thanks!]                                                                                                           |[thanks!]                                                                                                           |\n",
            "|570282469121007616|negative         |0.6842                      |Late Flight   |0.3684                   |Virgin America|null                  |smartwatermelon|null               |0            |@VirginAmerica SFO-PDX schedule is still MIA.                                                                                               |null       |2015-02-24 10:01:50 -0800|palo alto, ca               |Pacific Time (US & Canada)|[@virginamerica, sfo-pdx, schedule, is, still, mia.]                                                                                                                  |[@virginamerica, sfo-pdx, schedule, still, mia.]                                                                                    |[sfo-pdx, schedule, still, mia.]                                                                                    |\n",
            "|570277724385734656|positive         |1.0                         |null          |null                     |Virgin America|null                  |ItzBrianHunty  |null               |0            |@VirginAmerica So excited for my first cross country flight LAX to MCO I've heard nothing but great things about Virgin America. #29DaysToGo|null       |2015-02-24 09:42:59 -0800|west covina                 |Pacific Time (US & Canada)|[@virginamerica, so, excited, for, my, first, cross, country, flight, lax, to, mco, i've, heard, nothing, but, great, things, about, virgin, america., #29daystogo]   |[@virginamerica, excited, first, cross, country, flight, lax, mco, heard, nothing, great, things, virgin, america., #29daystogo]    |[excited, first, cross, country, flight, lax, mco, heard, nothing, great, things, virgin, america., #29daystogo]    |\n",
            "|570276917301137409|negative         |1.0                         |Bad Flight    |1.0                      |Virgin America|null                  |heatherovieda  |null               |0            |@VirginAmerica  I flew from NYC to SFO last week and couldn't fully sit in my seat due to two large gentleman on either side of me. HELP!   |null       |2015-02-24 09:39:46 -0800|this place called NYC       |Eastern Time (US & Canada)|[@virginamerica, , i, flew, from, nyc, to, sfo, last, week, and, couldn't, fully, sit, in, my, seat, due, to, two, large, gentleman, on, either, side, of, me., help!]|[@virginamerica, , flew, nyc, sfo, last, week, fully, sit, seat, due, two, large, gentleman, either, side, me., help!]              |[, flew, nyc, sfo, last, week, fully, sit, seat, due, two, large, gentleman, either, side, me., help!]              |\n",
            "|570270684619923457|positive         |1.0                         |null          |null                     |Virgin America|null                  |thebrandiray   |null               |0            |I ❤️ flying @VirginAmerica. ☺️👍                                                                                                            |null       |2015-02-24 09:15:00 -0800|Somewhere celebrating life. |Atlantic Time (Canada)    |[i, ❤️, flying, @virginamerica., ☺️👍]                                                                                                                                |[❤️, flying, @virginamerica., ☺️👍]                                                                                                 |[❤️, flying, @virginamerica., ☺️👍]                                                                                 |\n",
            "|570267956648792064|positive         |1.0                         |null          |null                     |Virgin America|null                  |JNLpierce      |null               |0            |@VirginAmerica you know what would be amazingly awesome? BOS-FLL PLEASE!!!!!!! I want to fly with only you.                                 |null       |2015-02-24 09:04:10 -0800|Boston | Waltham            |Quito                     |[@virginamerica, you, know, what, would, be, amazingly, awesome?, bos-fll, please!!!!!!!, i, want, to, fly, with, only, you.]                                         |[@virginamerica, know, amazingly, awesome?, bos-fll, please!!!!!!!, want, fly, you.]                                                |[know, amazingly, awesome?, bos-fll, please!!!!!!!, want, fly, you.]                                                |\n",
            "+------------------+-----------------+----------------------------+--------------+-------------------------+--------------+----------------------+---------------+-------------------+-------------+--------------------------------------------------------------------------------------------------------------------------------------------+-----------+-------------------------+----------------------------+--------------------------+----------------------------------------------------------------------------------------------------------------------------------------------------------------------+------------------------------------------------------------------------------------------------------------------------------------+--------------------------------------------------------------------------------------------------------------------+\n",
            "only showing top 20 rows\n",
            "\n"
          ],
          "name": "stdout"
        }
      ]
    },
    {
      "cell_type": "code",
      "metadata": {
        "colab": {
          "base_uri": "https://localhost:8080/"
        },
        "id": "O0N01ivi7B3Y",
        "outputId": "8f3d5411-aac5-4d2e-bd83-31fc7874c1ad"
      },
      "source": [
        "# Run the hashing term frequency\n",
        "hashing = HashingTF(inputCol=\"filtered\", outputCol=\"hashedValues\", numFeatures=pow(2,4))\n",
        "\n",
        "# Transform into a DF\n",
        "hashed_df = hashing.transform(removed_frame_new)\n",
        "hashed_df.show()"
      ],
      "execution_count": null,
      "outputs": [
        {
          "output_type": "stream",
          "text": [
            "+------------------+-----------------+----------------------------+--------------+-------------------------+--------------+----------------------+---------------+-------------------+-------------+--------------------+-----------+--------------------+--------------------+--------------------+--------------------+--------------------+--------------------+--------------------+\n",
            "|          tweet_id|airline_sentiment|airline_sentiment_confidence|negativereason|negativereason_confidence|       airline|airline_sentiment_gold|           name|negativereason_gold|retweet_count|                text|tweet_coord|       tweet_created|      tweet_location|       user_timezone|               words|            filtered|        filtered_new|        hashedValues|\n",
            "+------------------+-----------------+----------------------------+--------------+-------------------------+--------------+----------------------+---------------+-------------------+-------------+--------------------+-----------+--------------------+--------------------+--------------------+--------------------+--------------------+--------------------+--------------------+\n",
            "|570306133677760513|          neutral|                         1.0|          null|                     null|Virgin America|                  null|        cairdin|               null|            0|@VirginAmerica Wh...|       null|2015-02-24 11:35:...|                null|Eastern Time (US ...|[@virginamerica, ...|[@virginamerica, ...|  [@dhepburn, said.]|(16,[2,5,10],[1.0...|\n",
            "|570301130888122368|         positive|                      0.3486|          null|                      0.0|Virgin America|                  null|       jnardino|               null|            0|@VirginAmerica pl...|       null|2015-02-24 11:15:...|                null|Pacific Time (US ...|[@virginamerica, ...|[@virginamerica, ...|[plus, added, com...|(16,[2,10,11,12,1...|\n",
            "|570301083672813571|          neutral|                      0.6837|          null|                     null|Virgin America|                  null|     yvonnalynn|               null|            0|@VirginAmerica I ...|       null|2015-02-24 11:15:...|           Lets Play|Central Time (US ...|[@virginamerica, ...|[@virginamerica, ...|[today..., must, ...|(16,[5,6,7,8,9,10...|\n",
            "|570301031407624196|         negative|                         1.0|    Bad Flight|                   0.7033|Virgin America|                  null|       jnardino|               null|            0|\"@VirginAmerica i...|       null|2015-02-24 11:15:...|                null|Pacific Time (US ...|[\"@virginamerica,...|[\"@virginamerica,...|[\"@virginamerica,...|(16,[0,1,4,6,7,8,...|\n",
            "|570300817074462722|         negative|                         1.0|    Can't Tell|                      1.0|Virgin America|                  null|       jnardino|               null|            0|@VirginAmerica an...|       null|2015-02-24 11:14:...|                null|Pacific Time (US ...|[@virginamerica, ...|[@virginamerica, ...|[really, big, bad...|(16,[0,1,4,8,10],...|\n",
            "|570300767074181121|         negative|                         1.0|    Can't Tell|                   0.6842|Virgin America|                  null|       jnardino|               null|            0|@VirginAmerica se...|       null|                null|                null|                null|[@virginamerica, ...|[@virginamerica, ...|[seriously, pay, ...|(16,[1,3,5,10,13,...|\n",
            "|570300616901320704|         positive|                      0.6745|          null|                      0.0|Virgin America|                  null|     cjmcginnis|               null|            0|@VirginAmerica ye...|       null|2015-02-24 11:13:...|    San Francisco CA|Pacific Time (US ...|[@virginamerica, ...|[@virginamerica, ...|[yes,, nearly, ev...|(16,[1,2,3,5,8,9,...|\n",
            "|570300248553349120|          neutral|                       0.634|          null|                     null|Virgin America|                  null|          pilot|               null|            0|@VirginAmerica Re...|       null|2015-02-24 11:12:...|         Los Angeles|Pacific Time (US ...|[@virginamerica, ...|[@virginamerica, ...|[really, missed, ...|(16,[0,1,3,6,7,10...|\n",
            "|570299953286942721|         positive|                      0.6559|          null|                     null|Virgin America|                  null|       dhepburn|               null|            0|@virginamerica We...|       null|2015-02-24 11:11:...|           San Diego|Pacific Time (US ...|[@virginamerica, ...|[@virginamerica, ...|[well,, didn't…bu...|(16,[4,6,10,12,14...|\n",
            "|570295459631263746|         positive|                         1.0|          null|                     null|Virgin America|                  null|     YupitsTate|               null|            0|@VirginAmerica it...|       null|2015-02-24 10:53:...|         Los Angeles|Eastern Time (US ...|[@virginamerica, ...|[@virginamerica, ...|[amazing,, arrive...|(16,[1,8,9,10,15]...|\n",
            "|570294189143031808|          neutral|                      0.6769|          null|                      0.0|Virgin America|                  null|idk_but_youtube|               null|            0|@VirginAmerica di...|       null|2015-02-24 10:48:...|     1/1 loner squad|Eastern Time (US ...|[@virginamerica, ...|[@virginamerica, ...|[know, suicide, s...|(16,[2,3,5,8,9,10...|\n",
            "|570289724453216256|         positive|                         1.0|          null|                     null|Virgin America|                  null|   HyperCamiLax|               null|            0|@VirginAmerica I ...|       null|2015-02-24 10:30:...|                 NYC|    America/New_York|[@virginamerica, ...|[@virginamerica, ...|[&lt;3, pretty, g...|(16,[1,8,9,10,11,...|\n",
            "|570289584061480960|         positive|                         1.0|          null|                     null|Virgin America|                  null|   HyperCamiLax|               null|            0|@VirginAmerica Th...|       null|2015-02-24 10:30:...|                 NYC|    America/New_York|[@virginamerica, ...|[@virginamerica, ...|[great, deal!, al...|(16,[0,1,2,5,6,7,...|\n",
            "|570287408438120448|         positive|                      0.6451|          null|                     null|Virgin America|                  null|   mollanderson|               null|            0|@VirginAmerica @v...|       null|2015-02-24 10:21:...|                null|Eastern Time (US ...|[@virginamerica, ...|[@virginamerica, ...|[@virginmedia, fl...|(16,[0,2,7,9,10,1...|\n",
            "|570285904809598977|         positive|                         1.0|          null|                     null|Virgin America|                  null|       sjespers|               null|            0|@VirginAmerica Th...|       null|2015-02-24 10:15:...|   San Francisco, CA|Pacific Time (US ...|[@virginamerica, ...|[@virginamerica, ...|           [thanks!]|(16,[0,10],[1.0,1...|\n",
            "|570282469121007616|         negative|                      0.6842|   Late Flight|                   0.3684|Virgin America|                  null|smartwatermelon|               null|            0|@VirginAmerica SF...|       null|2015-02-24 10:01:...|       palo alto, ca|Pacific Time (US ...|[@virginamerica, ...|[@virginamerica, ...|[sfo-pdx, schedul...|(16,[0,1,6,10],[1...|\n",
            "|570277724385734656|         positive|                         1.0|          null|                     null|Virgin America|                  null|  ItzBrianHunty|               null|            0|@VirginAmerica So...|       null|2015-02-24 09:42:...|         west covina|Pacific Time (US ...|[@virginamerica, ...|[@virginamerica, ...|[excited, first, ...|(16,[0,1,2,3,4,5,...|\n",
            "|570276917301137409|         negative|                         1.0|    Bad Flight|                      1.0|Virgin America|                  null|  heatherovieda|               null|            0|@VirginAmerica  I...|       null|2015-02-24 09:39:...|this place called...|Eastern Time (US ...|[@virginamerica, ...|[@virginamerica, ...|[, flew, nyc, sfo...|(16,[0,2,4,5,6,8,...|\n",
            "|570270684619923457|         positive|                         1.0|          null|                     null|Virgin America|                  null|   thebrandiray|               null|            0|I ❤️ flying @Virg...|       null|2015-02-24 09:15:...|Somewhere celebra...|Atlantic Time (Ca...|[i, ❤️, flying, @...|[❤️, flying, @vir...|[❤️, flying, @vir...|(16,[0,3,5],[2.0,...|\n",
            "|570267956648792064|         positive|                         1.0|          null|                     null|Virgin America|                  null|      JNLpierce|               null|            0|@VirginAmerica yo...|       null|2015-02-24 09:04:...|    Boston | Waltham|               Quito|[@virginamerica, ...|[@virginamerica, ...|[know, amazingly,...|(16,[0,3,4,5,8,10...|\n",
            "+------------------+-----------------+----------------------------+--------------+-------------------------+--------------+----------------------+---------------+-------------------+-------------+--------------------+-----------+--------------------+--------------------+--------------------+--------------------+--------------------+--------------------+--------------------+\n",
            "only showing top 20 rows\n",
            "\n"
          ],
          "name": "stdout"
        }
      ]
    },
    {
      "cell_type": "code",
      "metadata": {
        "colab": {
          "base_uri": "https://localhost:8080/"
        },
        "id": "UyeYgIH0_Y2a",
        "outputId": "fb51eeda-44d4-4552-adbb-afd2a6420cdf"
      },
      "source": [
        "# remove tweet_coord\n",
        "hashed_clean_df = hashed_df.drop(\"tweet_coord\", \"negativereason\", \"negativereason_confidence\",\"airline_sentiment_gold\",\"negativereason_gold\")\n",
        "hashed_clean_df.count()"
      ],
      "execution_count": null,
      "outputs": [
        {
          "output_type": "execute_result",
          "data": {
            "text/plain": [
              "14658"
            ]
          },
          "metadata": {},
          "execution_count": 62
        }
      ]
    },
    {
      "cell_type": "code",
      "metadata": {
        "colab": {
          "base_uri": "https://localhost:8080/"
        },
        "id": "3sv0nBW1C0AC",
        "outputId": "d5968555-01f7-4ae3-ab8f-6a82caf43bfd"
      },
      "source": [
        "hashed_clean_df = hashed_clean_df.filter(hashed_clean_df.text != \"null\")\n",
        "hashed_clean_df.count()"
      ],
      "execution_count": null,
      "outputs": [
        {
          "output_type": "execute_result",
          "data": {
            "text/plain": [
              "14632"
            ]
          },
          "metadata": {},
          "execution_count": 63
        }
      ]
    },
    {
      "cell_type": "code",
      "metadata": {
        "id": "eSTn5SZC7B-L"
      },
      "source": [
        "# Fit the IDF on the data set \n",
        "idf = IDF(inputCol=\"hashedValues\", outputCol=\"features\")\n",
        "idfModel = idf.fit(hashed_clean_df)\n",
        "rescaledData = idfModel.transform(hashed_clean_df)"
      ],
      "execution_count": null,
      "outputs": []
    },
    {
      "cell_type": "code",
      "metadata": {
        "colab": {
          "base_uri": "https://localhost:8080/"
        },
        "id": "6heGm6oS_Xww",
        "outputId": "2e312a55-7265-4bea-cf82-459ffe57eafd"
      },
      "source": [
        "# Display the DataFrame\n",
        "rescaledData.show(truncate=False)"
      ],
      "execution_count": null,
      "outputs": [
        {
          "output_type": "stream",
          "text": [
            "+------------------+-----------------+----------------------------+--------------+---------------+-------------+--------------------------------------------------------------------------------------------------------------------------------------------+-------------------------+----------------------------+--------------------------+----------------------------------------------------------------------------------------------------------------------------------------------------------------------+------------------------------------------------------------------------------------------------------------------------------------+--------------------------------------------------------------------------------------------------------------------+------------------------------------------------------------------------------+---------------------------------------------------------------------------------------------------------------------------------------------------------------------------------------------------------------------------------------------------+\n",
            "|tweet_id          |airline_sentiment|airline_sentiment_confidence|airline       |name           |retweet_count|text                                                                                                                                        |tweet_created            |tweet_location              |user_timezone             |words                                                                                                                                                                 |filtered                                                                                                                            |filtered_new                                                                                                        |hashedValues                                                                  |features                                                                                                                                                                                                                                           |\n",
            "+------------------+-----------------+----------------------------+--------------+---------------+-------------+--------------------------------------------------------------------------------------------------------------------------------------------+-------------------------+----------------------------+--------------------------+----------------------------------------------------------------------------------------------------------------------------------------------------------------------+------------------------------------------------------------------------------------------------------------------------------------+--------------------------------------------------------------------------------------------------------------------+------------------------------------------------------------------------------+---------------------------------------------------------------------------------------------------------------------------------------------------------------------------------------------------------------------------------------------------+\n",
            "|570306133677760513|neutral          |1.0                         |Virgin America|cairdin        |0            |@VirginAmerica What @dhepburn said.                                                                                                         |2015-02-24 11:35:52 -0800|null                        |Eastern Time (US & Canada)|[@virginamerica, what, @dhepburn, said.]                                                                                                                              |[@virginamerica, @dhepburn, said.]                                                                                                  |[@dhepburn, said.]                                                                                                  |(16,[2,5,10],[1.0,1.0,1.0])                                                   |(16,[2,5,10],[0.6384291552000726,0.562575812681813,0.7784887609201884])                                                                                                                                                                            |\n",
            "|570301130888122368|positive         |0.3486                      |Virgin America|jnardino       |0            |@VirginAmerica plus you've added commercials to the experience... tacky.                                                                    |2015-02-24 11:15:59 -0800|null                        |Pacific Time (US & Canada)|[@virginamerica, plus, you've, added, commercials, to, the, experience..., tacky.]                                                                                    |[@virginamerica, plus, added, commercials, experience..., tacky.]                                                                   |[plus, added, commercials, experience..., tacky.]                                                                   |(16,[2,10,11,12,13],[2.0,1.0,1.0,1.0,1.0])                                    |(16,[2,10,11,12,13],[1.2768583104001452,0.7784887609201884,0.9818092542296953,0.7022777832437062,0.9271469605253856])                                                                                                                              |\n",
            "|570301083672813571|neutral          |0.6837                      |Virgin America|yvonnalynn     |0            |@VirginAmerica I didn't today... Must mean I need to take another trip!                                                                     |2015-02-24 11:15:48 -0800|Lets Play                   |Central Time (US & Canada)|[@virginamerica, i, didn't, today..., must, mean, i, need, to, take, another, trip!]                                                                                  |[@virginamerica, today..., must, mean, need, take, another, trip!]                                                                  |[today..., must, mean, need, take, another, trip!]                                                                  |(16,[5,6,7,8,9,10,13,15],[1.0,1.0,1.0,1.0,1.0,1.0,1.0,1.0])                   |(16,[5,6,7,8,9,10,13,15],[0.562575812681813,0.8880258936279787,0.7212145785840259,0.6514535643721168,0.7137920950985073,0.7784887609201884,0.9271469605253856,0.6107364521216102])                                                                 |\n",
            "|570301031407624196|negative         |1.0                         |Virgin America|jnardino       |0            |\"@VirginAmerica it's really aggressive to blast obnoxious \"\"entertainment\"\" in your guests' faces &amp; they have little recourse\"          |2015-02-24 11:15:36 -0800|null                        |Pacific Time (US & Canada)|[\"@virginamerica, it's, really, aggressive, to, blast, obnoxious, \"\"entertainment\"\", in, your, guests', faces, &amp;, they, have, little, recourse\"]                  |[\"@virginamerica, really, aggressive, blast, obnoxious, \"\"entertainment\"\", guests', faces, &amp;, little, recourse\"]                |[\"@virginamerica, really, aggressive, blast, obnoxious, \"\"entertainment\"\", guests', faces, &amp;, little, recourse\"]|(16,[0,1,4,6,7,8,9,10],[2.0,1.0,1.0,1.0,1.0,2.0,2.0,1.0])                     |(16,[0,1,4,6,7,8,9,10],[0.9687787909100177,0.8535819435418424,1.0002191998055754,0.8880258936279787,0.7212145785840259,1.3029071287442335,1.4275841901970145,0.7784887609201884])                                                                  |\n",
            "|570300817074462722|negative         |1.0                         |Virgin America|jnardino       |0            |@VirginAmerica and it's a really big bad thing about it                                                                                     |2015-02-24 11:14:45 -0800|null                        |Pacific Time (US & Canada)|[@virginamerica, and, it's, a, really, big, bad, thing, about, it]                                                                                                    |[@virginamerica, really, big, bad, thing]                                                                                           |[really, big, bad, thing]                                                                                           |(16,[0,1,4,8,10],[1.0,1.0,1.0,1.0,1.0])                                       |(16,[0,1,4,8,10],[0.48438939545500886,0.8535819435418424,1.0002191998055754,0.6514535643721168,0.7784887609201884])                                                                                                                                |\n",
            "|570300767074181121|negative         |1.0                         |Virgin America|jnardino       |0            |@VirginAmerica seriously would pay $30 a flight for seats that didn't have this playing.                                                    |null                     |null                        |null                      |[@virginamerica, seriously, would, pay, $30, a, flight, for, seats, that, didn't, have, this, playing.]                                                               |[@virginamerica, seriously, pay, $30, flight, seats, playing.]                                                                      |[seriously, pay, $30, flight, seats, playing.]                                                                      |(16,[1,3,5,10,13,15],[1.0,2.0,1.0,1.0,1.0,1.0])                               |(16,[1,3,5,10,13,15],[0.8535819435418424,1.6743788766743744,0.562575812681813,0.7784887609201884,0.9271469605253856,0.6107364521216102])                                                                                                           |\n",
            "|570300616901320704|positive         |0.6745                      |Virgin America|cjmcginnis     |0            |@VirginAmerica yes, nearly every time I fly VX this “ear worm” won’t go away :)                                                             |2015-02-24 11:13:57 -0800|San Francisco CA            |Pacific Time (US & Canada)|[@virginamerica, yes,, nearly, every, time, i, fly, vx, this, “ear, worm”, won’t, go, away, :)]                                                                       |[@virginamerica, yes,, nearly, every, time, fly, vx, “ear, worm”, won’t, go, away, :)]                                              |[yes,, nearly, every, time, fly, vx, “ear, worm”, won’t, go, away, :)]                                              |(16,[1,2,3,5,8,9,10,13,14],[1.0,2.0,1.0,1.0,1.0,1.0,3.0,1.0,2.0])             |(16,[1,2,3,5,8,9,10,13,14],[0.8535819435418424,1.2768583104001452,0.8371894383371872,0.562575812681813,0.6514535643721168,0.7137920950985073,2.335466282760565,0.9271469605253856,1.6930928344790068])                                             |\n",
            "|570300248553349120|neutral          |0.634                       |Virgin America|pilot          |0            |@VirginAmerica Really missed a prime opportunity for Men Without Hats parody, there. https://t.co/mWpG7grEZP                                |2015-02-24 11:12:29 -0800|Los Angeles                 |Pacific Time (US & Canada)|[@virginamerica, really, missed, a, prime, opportunity, for, men, without, hats, parody,, there., https://t.co/mwpg7grezp]                                            |[@virginamerica, really, missed, prime, opportunity, men, without, hats, parody,, there., https://t.co/mwpg7grezp]                  |[really, missed, prime, opportunity, men, without, hats, parody,, there., https://t.co/mwpg7grezp]                  |(16,[0,1,3,6,7,10,11,12,14],[3.0,1.0,1.0,1.0,1.0,1.0,1.0,1.0,1.0])            |(16,[0,1,3,6,7,10,11,12,14],[1.4531681863650265,0.8535819435418424,0.8371894383371872,0.8880258936279787,0.7212145785840259,0.7784887609201884,0.9818092542296953,0.7022777832437062,0.8465464172395034])                                          |\n",
            "|570299953286942721|positive         |0.6559                      |Virgin America|dhepburn       |0            |@virginamerica Well, I didn't…but NOW I DO! :-D                                                                                             |2015-02-24 11:11:19 -0800|San Diego                   |Pacific Time (US & Canada)|[@virginamerica, well,, i, didn't…but, now, i, do!, :-d]                                                                                                              |[@virginamerica, well,, didn't…but, do!, :-d]                                                                                       |[well,, didn't…but, do!, :-d]                                                                                       |(16,[4,6,10,12,14],[1.0,1.0,1.0,1.0,1.0])                                     |(16,[4,6,10,12,14],[1.0002191998055754,0.8880258936279787,0.7784887609201884,0.7022777832437062,0.8465464172395034])                                                                                                                               |\n",
            "|570295459631263746|positive         |1.0                         |Virgin America|YupitsTate     |0            |@VirginAmerica it was amazing, and arrived an hour early. You're too good to me.                                                            |2015-02-24 10:53:27 -0800|Los Angeles                 |Eastern Time (US & Canada)|[@virginamerica, it, was, amazing,, and, arrived, an, hour, early., you're, too, good, to, me.]                                                                       |[@virginamerica, amazing,, arrived, hour, early., good, me.]                                                                        |[amazing,, arrived, hour, early., good, me.]                                                                        |(16,[1,8,9,10,15],[1.0,2.0,2.0,1.0,1.0])                                      |(16,[1,8,9,10,15],[0.8535819435418424,1.3029071287442335,1.4275841901970145,0.7784887609201884,0.6107364521216102])                                                                                                                                |\n",
            "|570294189143031808|neutral          |0.6769                      |Virgin America|idk_but_youtube|0            |@VirginAmerica did you know that suicide is the second leading cause of death among teens 10-24                                             |2015-02-24 10:48:24 -0800|1/1 loner squad             |Eastern Time (US & Canada)|[@virginamerica, did, you, know, that, suicide, is, the, second, leading, cause, of, death, among, teens, 10-24]                                                      |[@virginamerica, know, suicide, second, leading, cause, death, among, teens, 10-24]                                                 |[know, suicide, second, leading, cause, death, among, teens, 10-24]                                                 |(16,[2,3,5,8,9,10,12,13,14],[2.0,1.0,1.0,1.0,1.0,1.0,1.0,1.0,1.0])            |(16,[2,3,5,8,9,10,12,13,14],[1.2768583104001452,0.8371894383371872,0.562575812681813,0.6514535643721168,0.7137920950985073,0.7784887609201884,0.7022777832437062,0.9271469605253856,0.8465464172395034])                                           |\n",
            "|570289724453216256|positive         |1.0                         |Virgin America|HyperCamiLax   |0            |@VirginAmerica I &lt;3 pretty graphics. so much better than minimal iconography. :D                                                         |2015-02-24 10:30:40 -0800|NYC                         |America/New_York          |[@virginamerica, i, &lt;3, pretty, graphics., so, much, better, than, minimal, iconography., :d]                                                                      |[@virginamerica, &lt;3, pretty, graphics., much, better, minimal, iconography., :d]                                                 |[&lt;3, pretty, graphics., much, better, minimal, iconography., :d]                                                 |(16,[1,8,9,10,11,12,15],[1.0,1.0,1.0,1.0,1.0,1.0,3.0])                        |(16,[1,8,9,10,11,12,15],[0.8535819435418424,0.6514535643721168,0.7137920950985073,0.7784887609201884,0.9818092542296953,0.7022777832437062,1.8322093563648307])                                                                                    |\n",
            "|570289584061480960|positive         |1.0                         |Virgin America|HyperCamiLax   |0            |@VirginAmerica This is such a great deal! Already thinking about my 2nd trip to @Australia &amp; I haven't even gone on my 1st trip yet! ;p |2015-02-24 10:30:06 -0800|NYC                         |America/New_York          |[@virginamerica, this, is, such, a, great, deal!, already, thinking, about, my, 2nd, trip, to, @australia, &amp;, i, haven't, even, gone, on, my, 1st, trip, yet!, ;p]|[@virginamerica, great, deal!, already, thinking, 2nd, trip, @australia, &amp;, even, gone, 1st, trip, yet!, ;p]                    |[great, deal!, already, thinking, 2nd, trip, @australia, &amp;, even, gone, 1st, trip, yet!, ;p]                    |(16,[0,1,2,5,6,7,8,10,12,14,15],[3.0,1.0,1.0,1.0,3.0,1.0,1.0,1.0,1.0,1.0,1.0])|(16,[0,1,2,5,6,7,8,10,12,14,15],[1.4531681863650265,0.8535819435418424,0.6384291552000726,0.562575812681813,2.664077680883936,0.7212145785840259,0.6514535643721168,0.7784887609201884,0.7022777832437062,0.8465464172395034,0.6107364521216102])  |\n",
            "|570287408438120448|positive         |0.6451                      |Virgin America|mollanderson   |0            |@VirginAmerica @virginmedia I'm flying your #fabulous #Seductive skies again! U take all the #stress away from travel http://t.co/ahlXHhKiyn|2015-02-24 10:21:28 -0800|null                        |Eastern Time (US & Canada)|[@virginamerica, @virginmedia, i'm, flying, your, #fabulous, #seductive, skies, again!, u, take, all, the, #stress, away, from, travel, http://t.co/ahlxhhkiyn]       |[@virginamerica, @virginmedia, flying, #fabulous, #seductive, skies, again!, u, take, #stress, away, travel, http://t.co/ahlxhhkiyn]|[@virginmedia, flying, #fabulous, #seductive, skies, again!, u, take, #stress, away, travel, http://t.co/ahlxhhkiyn]|(16,[0,2,7,9,10,11],[2.0,2.0,3.0,3.0,2.0,1.0])                                |(16,[0,2,7,9,10,11],[0.9687787909100177,1.2768583104001452,2.163643735752078,2.1413762852955216,1.5569775218403767,0.9818092542296953])                                                                                                            |\n",
            "|570285904809598977|positive         |1.0                         |Virgin America|sjespers       |0            |@VirginAmerica Thanks!                                                                                                                      |2015-02-24 10:15:29 -0800|San Francisco, CA           |Pacific Time (US & Canada)|[@virginamerica, thanks!]                                                                                                                                             |[@virginamerica, thanks!]                                                                                                           |[thanks!]                                                                                                           |(16,[0,10],[1.0,1.0])                                                         |(16,[0,10],[0.48438939545500886,0.7784887609201884])                                                                                                                                                                                               |\n",
            "|570282469121007616|negative         |0.6842                      |Virgin America|smartwatermelon|0            |@VirginAmerica SFO-PDX schedule is still MIA.                                                                                               |2015-02-24 10:01:50 -0800|palo alto, ca               |Pacific Time (US & Canada)|[@virginamerica, sfo-pdx, schedule, is, still, mia.]                                                                                                                  |[@virginamerica, sfo-pdx, schedule, still, mia.]                                                                                    |[sfo-pdx, schedule, still, mia.]                                                                                    |(16,[0,1,6,10],[1.0,1.0,2.0,1.0])                                             |(16,[0,1,6,10],[0.48438939545500886,0.8535819435418424,1.7760517872559574,0.7784887609201884])                                                                                                                                                     |\n",
            "|570277724385734656|positive         |1.0                         |Virgin America|ItzBrianHunty  |0            |@VirginAmerica So excited for my first cross country flight LAX to MCO I've heard nothing but great things about Virgin America. #29DaysToGo|2015-02-24 09:42:59 -0800|west covina                 |Pacific Time (US & Canada)|[@virginamerica, so, excited, for, my, first, cross, country, flight, lax, to, mco, i've, heard, nothing, but, great, things, about, virgin, america., #29daystogo]   |[@virginamerica, excited, first, cross, country, flight, lax, mco, heard, nothing, great, things, virgin, america., #29daystogo]    |[excited, first, cross, country, flight, lax, mco, heard, nothing, great, things, virgin, america., #29daystogo]    |(16,[0,1,2,3,4,5,10,12,13,14],[2.0,2.0,1.0,1.0,2.0,2.0,1.0,1.0,1.0,2.0])      |(16,[0,1,2,3,4,5,10,12,13,14],[0.9687787909100177,1.7071638870836847,0.6384291552000726,0.8371894383371872,2.0004383996111508,1.125151625363626,0.7784887609201884,0.7022777832437062,0.9271469605253856,1.6930928344790068])                      |\n",
            "|570276917301137409|negative         |1.0                         |Virgin America|heatherovieda  |0            |@VirginAmerica  I flew from NYC to SFO last week and couldn't fully sit in my seat due to two large gentleman on either side of me. HELP!   |2015-02-24 09:39:46 -0800|this place called NYC       |Eastern Time (US & Canada)|[@virginamerica, , i, flew, from, nyc, to, sfo, last, week, and, couldn't, fully, sit, in, my, seat, due, to, two, large, gentleman, on, either, side, of, me., help!]|[@virginamerica, , flew, nyc, sfo, last, week, fully, sit, seat, due, two, large, gentleman, either, side, me., help!]              |[, flew, nyc, sfo, last, week, fully, sit, seat, due, two, large, gentleman, either, side, me., help!]              |(16,[0,2,4,5,6,8,9,10,12,14,15],[1.0,2.0,1.0,4.0,1.0,2.0,2.0,1.0,2.0,1.0,1.0])|(16,[0,2,4,5,6,8,9,10,12,14,15],[0.48438939545500886,1.2768583104001452,1.0002191998055754,2.250303250727252,0.8880258936279787,1.3029071287442335,1.4275841901970145,0.7784887609201884,1.4045555664874123,0.8465464172395034,0.6107364521216102])|\n",
            "|570270684619923457|positive         |1.0                         |Virgin America|thebrandiray   |0            |I ❤️ flying @VirginAmerica. ☺️👍                                                                                                            |2015-02-24 09:15:00 -0800|Somewhere celebrating life. |Atlantic Time (Canada)    |[i, ❤️, flying, @virginamerica., ☺️👍]                                                                                                                                |[❤️, flying, @virginamerica., ☺️👍]                                                                                                 |[❤️, flying, @virginamerica., ☺️👍]                                                                                 |(16,[0,3,5],[2.0,1.0,1.0])                                                    |(16,[0,3,5],[0.9687787909100177,0.8371894383371872,0.562575812681813])                                                                                                                                                                             |\n",
            "|570267956648792064|positive         |1.0                         |Virgin America|JNLpierce      |0            |@VirginAmerica you know what would be amazingly awesome? BOS-FLL PLEASE!!!!!!! I want to fly with only you.                                 |2015-02-24 09:04:10 -0800|Boston | Waltham            |Quito                     |[@virginamerica, you, know, what, would, be, amazingly, awesome?, bos-fll, please!!!!!!!, i, want, to, fly, with, only, you.]                                         |[@virginamerica, know, amazingly, awesome?, bos-fll, please!!!!!!!, want, fly, you.]                                                |[know, amazingly, awesome?, bos-fll, please!!!!!!!, want, fly, you.]                                                |(16,[0,3,4,5,8,10,11],[2.0,1.0,2.0,1.0,1.0,1.0,1.0])                          |(16,[0,3,4,5,8,10,11],[0.9687787909100177,0.8371894383371872,2.0004383996111508,0.562575812681813,0.6514535643721168,0.7784887609201884,0.9818092542296953])                                                                                       |\n",
            "+------------------+-----------------+----------------------------+--------------+---------------+-------------+--------------------------------------------------------------------------------------------------------------------------------------------+-------------------------+----------------------------+--------------------------+----------------------------------------------------------------------------------------------------------------------------------------------------------------------+------------------------------------------------------------------------------------------------------------------------------------+--------------------------------------------------------------------------------------------------------------------+------------------------------------------------------------------------------+---------------------------------------------------------------------------------------------------------------------------------------------------------------------------------------------------------------------------------------------------+\n",
            "only showing top 20 rows\n",
            "\n"
          ],
          "name": "stdout"
        }
      ]
    },
    {
      "cell_type": "code",
      "metadata": {
        "id": "VU2VwON6HV13"
      },
      "source": [
        "from pyspark.ml.feature import OneHotEncoder"
      ],
      "execution_count": null,
      "outputs": []
    },
    {
      "cell_type": "code",
      "metadata": {
        "colab": {
          "base_uri": "https://localhost:8080/"
        },
        "id": "WE69-0Xc-cG0",
        "outputId": "a14ae75c-5774-493a-d413-d816e1f8f372"
      },
      "source": [
        "pos_neg_to_num = StringIndexer(inputCol='airline_sentiment',outputCol='label')\n",
        "removed_frame_new = pos_neg_to_num.fit(rescaledData)\n",
        "removed_frame_new2 = removed_frame_new.transform(rescaledData)\n",
        "removed_frame_new2.show()"
      ],
      "execution_count": null,
      "outputs": [
        {
          "output_type": "stream",
          "text": [
            "+------------------+-----------------+----------------------------+--------------+---------------+-------------+--------------------+--------------------+--------------------+--------------------+--------------------+--------------------+--------------------+--------------------+--------------------+-----+\n",
            "|          tweet_id|airline_sentiment|airline_sentiment_confidence|       airline|           name|retweet_count|                text|       tweet_created|      tweet_location|       user_timezone|               words|            filtered|        filtered_new|        hashedValues|            features|label|\n",
            "+------------------+-----------------+----------------------------+--------------+---------------+-------------+--------------------+--------------------+--------------------+--------------------+--------------------+--------------------+--------------------+--------------------+--------------------+-----+\n",
            "|570306133677760513|          neutral|                         1.0|Virgin America|        cairdin|            0|@VirginAmerica Wh...|2015-02-24 11:35:...|                null|Eastern Time (US ...|[@virginamerica, ...|[@virginamerica, ...|  [@dhepburn, said.]|(16,[2,5,10],[1.0...|(16,[2,5,10],[0.6...|  1.0|\n",
            "|570301130888122368|         positive|                      0.3486|Virgin America|       jnardino|            0|@VirginAmerica pl...|2015-02-24 11:15:...|                null|Pacific Time (US ...|[@virginamerica, ...|[@virginamerica, ...|[plus, added, com...|(16,[2,10,11,12,1...|(16,[2,10,11,12,1...|  2.0|\n",
            "|570301083672813571|          neutral|                      0.6837|Virgin America|     yvonnalynn|            0|@VirginAmerica I ...|2015-02-24 11:15:...|           Lets Play|Central Time (US ...|[@virginamerica, ...|[@virginamerica, ...|[today..., must, ...|(16,[5,6,7,8,9,10...|(16,[5,6,7,8,9,10...|  1.0|\n",
            "|570301031407624196|         negative|                         1.0|Virgin America|       jnardino|            0|\"@VirginAmerica i...|2015-02-24 11:15:...|                null|Pacific Time (US ...|[\"@virginamerica,...|[\"@virginamerica,...|[\"@virginamerica,...|(16,[0,1,4,6,7,8,...|(16,[0,1,4,6,7,8,...|  0.0|\n",
            "|570300817074462722|         negative|                         1.0|Virgin America|       jnardino|            0|@VirginAmerica an...|2015-02-24 11:14:...|                null|Pacific Time (US ...|[@virginamerica, ...|[@virginamerica, ...|[really, big, bad...|(16,[0,1,4,8,10],...|(16,[0,1,4,8,10],...|  0.0|\n",
            "|570300767074181121|         negative|                         1.0|Virgin America|       jnardino|            0|@VirginAmerica se...|                null|                null|                null|[@virginamerica, ...|[@virginamerica, ...|[seriously, pay, ...|(16,[1,3,5,10,13,...|(16,[1,3,5,10,13,...|  0.0|\n",
            "|570300616901320704|         positive|                      0.6745|Virgin America|     cjmcginnis|            0|@VirginAmerica ye...|2015-02-24 11:13:...|    San Francisco CA|Pacific Time (US ...|[@virginamerica, ...|[@virginamerica, ...|[yes,, nearly, ev...|(16,[1,2,3,5,8,9,...|(16,[1,2,3,5,8,9,...|  2.0|\n",
            "|570300248553349120|          neutral|                       0.634|Virgin America|          pilot|            0|@VirginAmerica Re...|2015-02-24 11:12:...|         Los Angeles|Pacific Time (US ...|[@virginamerica, ...|[@virginamerica, ...|[really, missed, ...|(16,[0,1,3,6,7,10...|(16,[0,1,3,6,7,10...|  1.0|\n",
            "|570299953286942721|         positive|                      0.6559|Virgin America|       dhepburn|            0|@virginamerica We...|2015-02-24 11:11:...|           San Diego|Pacific Time (US ...|[@virginamerica, ...|[@virginamerica, ...|[well,, didn't…bu...|(16,[4,6,10,12,14...|(16,[4,6,10,12,14...|  2.0|\n",
            "|570295459631263746|         positive|                         1.0|Virgin America|     YupitsTate|            0|@VirginAmerica it...|2015-02-24 10:53:...|         Los Angeles|Eastern Time (US ...|[@virginamerica, ...|[@virginamerica, ...|[amazing,, arrive...|(16,[1,8,9,10,15]...|(16,[1,8,9,10,15]...|  2.0|\n",
            "|570294189143031808|          neutral|                      0.6769|Virgin America|idk_but_youtube|            0|@VirginAmerica di...|2015-02-24 10:48:...|     1/1 loner squad|Eastern Time (US ...|[@virginamerica, ...|[@virginamerica, ...|[know, suicide, s...|(16,[2,3,5,8,9,10...|(16,[2,3,5,8,9,10...|  1.0|\n",
            "|570289724453216256|         positive|                         1.0|Virgin America|   HyperCamiLax|            0|@VirginAmerica I ...|2015-02-24 10:30:...|                 NYC|    America/New_York|[@virginamerica, ...|[@virginamerica, ...|[&lt;3, pretty, g...|(16,[1,8,9,10,11,...|(16,[1,8,9,10,11,...|  2.0|\n",
            "|570289584061480960|         positive|                         1.0|Virgin America|   HyperCamiLax|            0|@VirginAmerica Th...|2015-02-24 10:30:...|                 NYC|    America/New_York|[@virginamerica, ...|[@virginamerica, ...|[great, deal!, al...|(16,[0,1,2,5,6,7,...|(16,[0,1,2,5,6,7,...|  2.0|\n",
            "|570287408438120448|         positive|                      0.6451|Virgin America|   mollanderson|            0|@VirginAmerica @v...|2015-02-24 10:21:...|                null|Eastern Time (US ...|[@virginamerica, ...|[@virginamerica, ...|[@virginmedia, fl...|(16,[0,2,7,9,10,1...|(16,[0,2,7,9,10,1...|  2.0|\n",
            "|570285904809598977|         positive|                         1.0|Virgin America|       sjespers|            0|@VirginAmerica Th...|2015-02-24 10:15:...|   San Francisco, CA|Pacific Time (US ...|[@virginamerica, ...|[@virginamerica, ...|           [thanks!]|(16,[0,10],[1.0,1...|(16,[0,10],[0.484...|  2.0|\n",
            "|570282469121007616|         negative|                      0.6842|Virgin America|smartwatermelon|            0|@VirginAmerica SF...|2015-02-24 10:01:...|       palo alto, ca|Pacific Time (US ...|[@virginamerica, ...|[@virginamerica, ...|[sfo-pdx, schedul...|(16,[0,1,6,10],[1...|(16,[0,1,6,10],[0...|  0.0|\n",
            "|570277724385734656|         positive|                         1.0|Virgin America|  ItzBrianHunty|            0|@VirginAmerica So...|2015-02-24 09:42:...|         west covina|Pacific Time (US ...|[@virginamerica, ...|[@virginamerica, ...|[excited, first, ...|(16,[0,1,2,3,4,5,...|(16,[0,1,2,3,4,5,...|  2.0|\n",
            "|570276917301137409|         negative|                         1.0|Virgin America|  heatherovieda|            0|@VirginAmerica  I...|2015-02-24 09:39:...|this place called...|Eastern Time (US ...|[@virginamerica, ...|[@virginamerica, ...|[, flew, nyc, sfo...|(16,[0,2,4,5,6,8,...|(16,[0,2,4,5,6,8,...|  0.0|\n",
            "|570270684619923457|         positive|                         1.0|Virgin America|   thebrandiray|            0|I ❤️ flying @Virg...|2015-02-24 09:15:...|Somewhere celebra...|Atlantic Time (Ca...|[i, ❤️, flying, @...|[❤️, flying, @vir...|[❤️, flying, @vir...|(16,[0,3,5],[2.0,...|(16,[0,3,5],[0.96...|  2.0|\n",
            "|570267956648792064|         positive|                         1.0|Virgin America|      JNLpierce|            0|@VirginAmerica yo...|2015-02-24 09:04:...|    Boston | Waltham|               Quito|[@virginamerica, ...|[@virginamerica, ...|[know, amazingly,...|(16,[0,3,4,5,8,10...|(16,[0,3,4,5,8,10...|  2.0|\n",
            "+------------------+-----------------+----------------------------+--------------+---------------+-------------+--------------------+--------------------+--------------------+--------------------+--------------------+--------------------+--------------------+--------------------+--------------------+-----+\n",
            "only showing top 20 rows\n",
            "\n"
          ],
          "name": "stdout"
        }
      ]
    },
    {
      "cell_type": "code",
      "metadata": {
        "colab": {
          "base_uri": "https://localhost:8080/"
        },
        "id": "oEuraU7t-cN2",
        "outputId": "25004f57-5ba8-4b84-bff6-bfcd2d0e26e0"
      },
      "source": [
        "onehot = OneHotEncoder(inputCol='label',outputCol='hotcode')\n",
        "one_hot_test = onehot.fit(removed_frame_new2).transform(removed_frame_new2)\n",
        "removed_frame_new3 = onehot.fit(removed_frame_new2)\n",
        "removed_frame_new4 = removed_frame_new3.transform(removed_frame_new2)\n",
        "# removed_frame_new4.show()\n",
        "one_hot_test.show()"
      ],
      "execution_count": null,
      "outputs": [
        {
          "output_type": "stream",
          "text": [
            "+------------------+-----------------+----------------------------+--------------+---------------+-------------+--------------------+--------------------+--------------------+--------------------+--------------------+--------------------+--------------------+--------------------+--------------------+-----+-------------+\n",
            "|          tweet_id|airline_sentiment|airline_sentiment_confidence|       airline|           name|retweet_count|                text|       tweet_created|      tweet_location|       user_timezone|               words|            filtered|        filtered_new|        hashedValues|            features|label|      hotcode|\n",
            "+------------------+-----------------+----------------------------+--------------+---------------+-------------+--------------------+--------------------+--------------------+--------------------+--------------------+--------------------+--------------------+--------------------+--------------------+-----+-------------+\n",
            "|570306133677760513|          neutral|                         1.0|Virgin America|        cairdin|            0|@VirginAmerica Wh...|2015-02-24 11:35:...|                null|Eastern Time (US ...|[@virginamerica, ...|[@virginamerica, ...|  [@dhepburn, said.]|(16,[2,5,10],[1.0...|(16,[2,5,10],[0.6...|  1.0|(2,[1],[1.0])|\n",
            "|570301130888122368|         positive|                      0.3486|Virgin America|       jnardino|            0|@VirginAmerica pl...|2015-02-24 11:15:...|                null|Pacific Time (US ...|[@virginamerica, ...|[@virginamerica, ...|[plus, added, com...|(16,[2,10,11,12,1...|(16,[2,10,11,12,1...|  2.0|    (2,[],[])|\n",
            "|570301083672813571|          neutral|                      0.6837|Virgin America|     yvonnalynn|            0|@VirginAmerica I ...|2015-02-24 11:15:...|           Lets Play|Central Time (US ...|[@virginamerica, ...|[@virginamerica, ...|[today..., must, ...|(16,[5,6,7,8,9,10...|(16,[5,6,7,8,9,10...|  1.0|(2,[1],[1.0])|\n",
            "|570301031407624196|         negative|                         1.0|Virgin America|       jnardino|            0|\"@VirginAmerica i...|2015-02-24 11:15:...|                null|Pacific Time (US ...|[\"@virginamerica,...|[\"@virginamerica,...|[\"@virginamerica,...|(16,[0,1,4,6,7,8,...|(16,[0,1,4,6,7,8,...|  0.0|(2,[0],[1.0])|\n",
            "|570300817074462722|         negative|                         1.0|Virgin America|       jnardino|            0|@VirginAmerica an...|2015-02-24 11:14:...|                null|Pacific Time (US ...|[@virginamerica, ...|[@virginamerica, ...|[really, big, bad...|(16,[0,1,4,8,10],...|(16,[0,1,4,8,10],...|  0.0|(2,[0],[1.0])|\n",
            "|570300767074181121|         negative|                         1.0|Virgin America|       jnardino|            0|@VirginAmerica se...|                null|                null|                null|[@virginamerica, ...|[@virginamerica, ...|[seriously, pay, ...|(16,[1,3,5,10,13,...|(16,[1,3,5,10,13,...|  0.0|(2,[0],[1.0])|\n",
            "|570300616901320704|         positive|                      0.6745|Virgin America|     cjmcginnis|            0|@VirginAmerica ye...|2015-02-24 11:13:...|    San Francisco CA|Pacific Time (US ...|[@virginamerica, ...|[@virginamerica, ...|[yes,, nearly, ev...|(16,[1,2,3,5,8,9,...|(16,[1,2,3,5,8,9,...|  2.0|    (2,[],[])|\n",
            "|570300248553349120|          neutral|                       0.634|Virgin America|          pilot|            0|@VirginAmerica Re...|2015-02-24 11:12:...|         Los Angeles|Pacific Time (US ...|[@virginamerica, ...|[@virginamerica, ...|[really, missed, ...|(16,[0,1,3,6,7,10...|(16,[0,1,3,6,7,10...|  1.0|(2,[1],[1.0])|\n",
            "|570299953286942721|         positive|                      0.6559|Virgin America|       dhepburn|            0|@virginamerica We...|2015-02-24 11:11:...|           San Diego|Pacific Time (US ...|[@virginamerica, ...|[@virginamerica, ...|[well,, didn't…bu...|(16,[4,6,10,12,14...|(16,[4,6,10,12,14...|  2.0|    (2,[],[])|\n",
            "|570295459631263746|         positive|                         1.0|Virgin America|     YupitsTate|            0|@VirginAmerica it...|2015-02-24 10:53:...|         Los Angeles|Eastern Time (US ...|[@virginamerica, ...|[@virginamerica, ...|[amazing,, arrive...|(16,[1,8,9,10,15]...|(16,[1,8,9,10,15]...|  2.0|    (2,[],[])|\n",
            "|570294189143031808|          neutral|                      0.6769|Virgin America|idk_but_youtube|            0|@VirginAmerica di...|2015-02-24 10:48:...|     1/1 loner squad|Eastern Time (US ...|[@virginamerica, ...|[@virginamerica, ...|[know, suicide, s...|(16,[2,3,5,8,9,10...|(16,[2,3,5,8,9,10...|  1.0|(2,[1],[1.0])|\n",
            "|570289724453216256|         positive|                         1.0|Virgin America|   HyperCamiLax|            0|@VirginAmerica I ...|2015-02-24 10:30:...|                 NYC|    America/New_York|[@virginamerica, ...|[@virginamerica, ...|[&lt;3, pretty, g...|(16,[1,8,9,10,11,...|(16,[1,8,9,10,11,...|  2.0|    (2,[],[])|\n",
            "|570289584061480960|         positive|                         1.0|Virgin America|   HyperCamiLax|            0|@VirginAmerica Th...|2015-02-24 10:30:...|                 NYC|    America/New_York|[@virginamerica, ...|[@virginamerica, ...|[great, deal!, al...|(16,[0,1,2,5,6,7,...|(16,[0,1,2,5,6,7,...|  2.0|    (2,[],[])|\n",
            "|570287408438120448|         positive|                      0.6451|Virgin America|   mollanderson|            0|@VirginAmerica @v...|2015-02-24 10:21:...|                null|Eastern Time (US ...|[@virginamerica, ...|[@virginamerica, ...|[@virginmedia, fl...|(16,[0,2,7,9,10,1...|(16,[0,2,7,9,10,1...|  2.0|    (2,[],[])|\n",
            "|570285904809598977|         positive|                         1.0|Virgin America|       sjespers|            0|@VirginAmerica Th...|2015-02-24 10:15:...|   San Francisco, CA|Pacific Time (US ...|[@virginamerica, ...|[@virginamerica, ...|           [thanks!]|(16,[0,10],[1.0,1...|(16,[0,10],[0.484...|  2.0|    (2,[],[])|\n",
            "|570282469121007616|         negative|                      0.6842|Virgin America|smartwatermelon|            0|@VirginAmerica SF...|2015-02-24 10:01:...|       palo alto, ca|Pacific Time (US ...|[@virginamerica, ...|[@virginamerica, ...|[sfo-pdx, schedul...|(16,[0,1,6,10],[1...|(16,[0,1,6,10],[0...|  0.0|(2,[0],[1.0])|\n",
            "|570277724385734656|         positive|                         1.0|Virgin America|  ItzBrianHunty|            0|@VirginAmerica So...|2015-02-24 09:42:...|         west covina|Pacific Time (US ...|[@virginamerica, ...|[@virginamerica, ...|[excited, first, ...|(16,[0,1,2,3,4,5,...|(16,[0,1,2,3,4,5,...|  2.0|    (2,[],[])|\n",
            "|570276917301137409|         negative|                         1.0|Virgin America|  heatherovieda|            0|@VirginAmerica  I...|2015-02-24 09:39:...|this place called...|Eastern Time (US ...|[@virginamerica, ...|[@virginamerica, ...|[, flew, nyc, sfo...|(16,[0,2,4,5,6,8,...|(16,[0,2,4,5,6,8,...|  0.0|(2,[0],[1.0])|\n",
            "|570270684619923457|         positive|                         1.0|Virgin America|   thebrandiray|            0|I ❤️ flying @Virg...|2015-02-24 09:15:...|Somewhere celebra...|Atlantic Time (Ca...|[i, ❤️, flying, @...|[❤️, flying, @vir...|[❤️, flying, @vir...|(16,[0,3,5],[2.0,...|(16,[0,3,5],[0.96...|  2.0|    (2,[],[])|\n",
            "|570267956648792064|         positive|                         1.0|Virgin America|      JNLpierce|            0|@VirginAmerica yo...|2015-02-24 09:04:...|    Boston | Waltham|               Quito|[@virginamerica, ...|[@virginamerica, ...|[know, amazingly,...|(16,[0,3,4,5,8,10...|(16,[0,3,4,5,8,10...|  2.0|    (2,[],[])|\n",
            "+------------------+-----------------+----------------------------+--------------+---------------+-------------+--------------------+--------------------+--------------------+--------------------+--------------------+--------------------+--------------------+--------------------+--------------------+-----+-------------+\n",
            "only showing top 20 rows\n",
            "\n"
          ],
          "name": "stdout"
        }
      ]
    },
    {
      "cell_type": "code",
      "metadata": {
        "id": "W4nYdyoQLbbm"
      },
      "source": [
        "cleaned = one_hot_test"
      ],
      "execution_count": null,
      "outputs": []
    },
    {
      "cell_type": "code",
      "metadata": {
        "id": "RyYNU8Lm-cVT",
        "colab": {
          "base_uri": "https://localhost:8080/"
        },
        "outputId": "db9043cf-a457-4450-b8f2-5dbc5abddeaf"
      },
      "source": [
        "# Show label and resulting features\n",
        "cleaned.select(['label', 'hotcode']).show()"
      ],
      "execution_count": null,
      "outputs": [
        {
          "output_type": "stream",
          "text": [
            "+-----+-------------+\n",
            "|label|      hotcode|\n",
            "+-----+-------------+\n",
            "|  1.0|(2,[1],[1.0])|\n",
            "|  2.0|    (2,[],[])|\n",
            "|  1.0|(2,[1],[1.0])|\n",
            "|  0.0|(2,[0],[1.0])|\n",
            "|  0.0|(2,[0],[1.0])|\n",
            "|  0.0|(2,[0],[1.0])|\n",
            "|  2.0|    (2,[],[])|\n",
            "|  1.0|(2,[1],[1.0])|\n",
            "|  2.0|    (2,[],[])|\n",
            "|  2.0|    (2,[],[])|\n",
            "|  1.0|(2,[1],[1.0])|\n",
            "|  2.0|    (2,[],[])|\n",
            "|  2.0|    (2,[],[])|\n",
            "|  2.0|    (2,[],[])|\n",
            "|  2.0|    (2,[],[])|\n",
            "|  0.0|(2,[0],[1.0])|\n",
            "|  2.0|    (2,[],[])|\n",
            "|  0.0|(2,[0],[1.0])|\n",
            "|  2.0|    (2,[],[])|\n",
            "|  2.0|    (2,[],[])|\n",
            "+-----+-------------+\n",
            "only showing top 20 rows\n",
            "\n"
          ],
          "name": "stdout"
        }
      ]
    },
    {
      "cell_type": "code",
      "metadata": {
        "id": "7Q6JB0Q1LRrr"
      },
      "source": [
        "from pyspark.ml.classification import NaiveBayes\n",
        "# Break data down into a training set and a testing set\n",
        "training, testing = cleaned.randomSplit([0.7, 0.3])\n",
        "\n",
        "# Create a Naive Bayes model and fit training data\n",
        "nb = NaiveBayes()\n",
        "predictor = nb.fit(training)"
      ],
      "execution_count": null,
      "outputs": []
    },
    {
      "cell_type": "code",
      "metadata": {
        "id": "lDfzH4H2VkPo"
      },
      "source": [
        "predictor.save(\"sentiment_model.h5\")"
      ],
      "execution_count": null,
      "outputs": []
    },
    {
      "cell_type": "code",
      "metadata": {
        "colab": {
          "base_uri": "https://localhost:8080/",
          "height": 320
        },
        "id": "Lor3x4SzV9FY",
        "outputId": "ae15ce18-0a6d-4890-edab-8c8181073d26"
      },
      "source": [
        "from tensorflow.keras.models import load_model\n",
        "setiment_model_predictor = load_model(\"sentiment_model.h5\")"
      ],
      "execution_count": null,
      "outputs": [
        {
          "output_type": "error",
          "ename": "OSError",
          "evalue": "ignored",
          "traceback": [
            "\u001b[0;31m---------------------------------------------------------------------------\u001b[0m",
            "\u001b[0;31mOSError\u001b[0m                                   Traceback (most recent call last)",
            "\u001b[0;32m<ipython-input-83-340585e2debc>\u001b[0m in \u001b[0;36m<module>\u001b[0;34m()\u001b[0m\n\u001b[1;32m      1\u001b[0m \u001b[0;32mfrom\u001b[0m \u001b[0mtensorflow\u001b[0m\u001b[0;34m.\u001b[0m\u001b[0mkeras\u001b[0m\u001b[0;34m.\u001b[0m\u001b[0mmodels\u001b[0m \u001b[0;32mimport\u001b[0m \u001b[0mload_model\u001b[0m\u001b[0;34m\u001b[0m\u001b[0;34m\u001b[0m\u001b[0m\n\u001b[0;32m----> 2\u001b[0;31m \u001b[0msetiment_model_predictor\u001b[0m \u001b[0;34m=\u001b[0m \u001b[0mload_model\u001b[0m\u001b[0;34m(\u001b[0m\u001b[0;34m\"sentiment_model.h5\"\u001b[0m\u001b[0;34m)\u001b[0m\u001b[0;34m\u001b[0m\u001b[0;34m\u001b[0m\u001b[0m\n\u001b[0m",
            "\u001b[0;32m/usr/local/lib/python3.7/dist-packages/keras/saving/save.py\u001b[0m in \u001b[0;36mload_model\u001b[0;34m(filepath, custom_objects, compile, options)\u001b[0m\n\u001b[1;32m    203\u001b[0m         \u001b[0mfilepath\u001b[0m \u001b[0;34m=\u001b[0m \u001b[0mpath_to_string\u001b[0m\u001b[0;34m(\u001b[0m\u001b[0mfilepath\u001b[0m\u001b[0;34m)\u001b[0m\u001b[0;34m\u001b[0m\u001b[0;34m\u001b[0m\u001b[0m\n\u001b[1;32m    204\u001b[0m         \u001b[0;32mif\u001b[0m \u001b[0misinstance\u001b[0m\u001b[0;34m(\u001b[0m\u001b[0mfilepath\u001b[0m\u001b[0;34m,\u001b[0m \u001b[0mstr\u001b[0m\u001b[0;34m)\u001b[0m\u001b[0;34m:\u001b[0m\u001b[0;34m\u001b[0m\u001b[0;34m\u001b[0m\u001b[0m\n\u001b[0;32m--> 205\u001b[0;31m           \u001b[0;32mreturn\u001b[0m \u001b[0msaved_model_load\u001b[0m\u001b[0;34m.\u001b[0m\u001b[0mload\u001b[0m\u001b[0;34m(\u001b[0m\u001b[0mfilepath\u001b[0m\u001b[0;34m,\u001b[0m \u001b[0mcompile\u001b[0m\u001b[0;34m,\u001b[0m \u001b[0moptions\u001b[0m\u001b[0;34m)\u001b[0m\u001b[0;34m\u001b[0m\u001b[0;34m\u001b[0m\u001b[0m\n\u001b[0m\u001b[1;32m    206\u001b[0m \u001b[0;34m\u001b[0m\u001b[0m\n\u001b[1;32m    207\u001b[0m   raise IOError(\n",
            "\u001b[0;32m/usr/local/lib/python3.7/dist-packages/keras/saving/saved_model/load.py\u001b[0m in \u001b[0;36mload\u001b[0;34m(path, compile, options)\u001b[0m\n\u001b[1;32m    106\u001b[0m   \u001b[0;31m# Look for metadata file or parse the SavedModel\u001b[0m\u001b[0;34m\u001b[0m\u001b[0;34m\u001b[0m\u001b[0;34m\u001b[0m\u001b[0m\n\u001b[1;32m    107\u001b[0m   \u001b[0mmetadata\u001b[0m \u001b[0;34m=\u001b[0m \u001b[0msaved_metadata_pb2\u001b[0m\u001b[0;34m.\u001b[0m\u001b[0mSavedMetadata\u001b[0m\u001b[0;34m(\u001b[0m\u001b[0;34m)\u001b[0m\u001b[0;34m\u001b[0m\u001b[0;34m\u001b[0m\u001b[0m\n\u001b[0;32m--> 108\u001b[0;31m   \u001b[0mmeta_graph_def\u001b[0m \u001b[0;34m=\u001b[0m \u001b[0mtf\u001b[0m\u001b[0;34m.\u001b[0m\u001b[0m__internal__\u001b[0m\u001b[0;34m.\u001b[0m\u001b[0msaved_model\u001b[0m\u001b[0;34m.\u001b[0m\u001b[0mparse_saved_model\u001b[0m\u001b[0;34m(\u001b[0m\u001b[0mpath\u001b[0m\u001b[0;34m)\u001b[0m\u001b[0;34m.\u001b[0m\u001b[0mmeta_graphs\u001b[0m\u001b[0;34m[\u001b[0m\u001b[0;36m0\u001b[0m\u001b[0;34m]\u001b[0m\u001b[0;34m\u001b[0m\u001b[0;34m\u001b[0m\u001b[0m\n\u001b[0m\u001b[1;32m    109\u001b[0m   \u001b[0mobject_graph_def\u001b[0m \u001b[0;34m=\u001b[0m \u001b[0mmeta_graph_def\u001b[0m\u001b[0;34m.\u001b[0m\u001b[0mobject_graph_def\u001b[0m\u001b[0;34m\u001b[0m\u001b[0;34m\u001b[0m\u001b[0m\n\u001b[1;32m    110\u001b[0m   \u001b[0mpath_to_metadata_pb\u001b[0m \u001b[0;34m=\u001b[0m \u001b[0mos\u001b[0m\u001b[0;34m.\u001b[0m\u001b[0mpath\u001b[0m\u001b[0;34m.\u001b[0m\u001b[0mjoin\u001b[0m\u001b[0;34m(\u001b[0m\u001b[0mpath\u001b[0m\u001b[0;34m,\u001b[0m \u001b[0mconstants\u001b[0m\u001b[0;34m.\u001b[0m\u001b[0mSAVED_METADATA_PATH\u001b[0m\u001b[0;34m)\u001b[0m\u001b[0;34m\u001b[0m\u001b[0;34m\u001b[0m\u001b[0m\n",
            "\u001b[0;32m/usr/local/lib/python3.7/dist-packages/tensorflow/python/saved_model/loader_impl.py\u001b[0m in \u001b[0;36mparse_saved_model\u001b[0;34m(export_dir)\u001b[0m\n\u001b[1;32m    119\u001b[0m         \u001b[0;34m\"SavedModel file does not exist at: %s%s{%s|%s}\"\u001b[0m \u001b[0;34m%\u001b[0m\u001b[0;34m\u001b[0m\u001b[0;34m\u001b[0m\u001b[0m\n\u001b[1;32m    120\u001b[0m         (export_dir, os.path.sep, constants.SAVED_MODEL_FILENAME_PBTXT,\n\u001b[0;32m--> 121\u001b[0;31m          constants.SAVED_MODEL_FILENAME_PB))\n\u001b[0m\u001b[1;32m    122\u001b[0m \u001b[0;34m\u001b[0m\u001b[0m\n\u001b[1;32m    123\u001b[0m \u001b[0;34m\u001b[0m\u001b[0m\n",
            "\u001b[0;31mOSError\u001b[0m: SavedModel file does not exist at: sentiment_model.h5/{saved_model.pbtxt|saved_model.pb}"
          ]
        }
      ]
    },
    {
      "cell_type": "markdown",
      "metadata": {
        "id": "y9DT0d5AXcI2"
      },
      "source": [
        "# New Section"
      ]
    },
    {
      "cell_type": "markdown",
      "metadata": {
        "id": "_5DuyvVUXch_"
      },
      "source": [
        "# New Section"
      ]
    },
    {
      "cell_type": "markdown",
      "metadata": {
        "id": "CK38vXhPRVhE"
      },
      "source": [
        ""
      ]
    },
    {
      "cell_type": "code",
      "metadata": {
        "colab": {
          "base_uri": "https://localhost:8080/"
        },
        "id": "zR8ks2KvLR6U",
        "outputId": "ce140c4c-d051-4b15-f9a5-ddd57bf0e485"
      },
      "source": [
        "# Tranform the model with the testing data\n",
        "test_results = predictor.transform(testing)\n",
        "test_results.show(5)"
      ],
      "execution_count": null,
      "outputs": [
        {
          "output_type": "stream",
          "text": [
            "+------------------+-----------------+----------------------------+----------+---------------+-------------+--------------------+--------------------+--------------+--------------------+--------------------+--------------------+--------------------+--------------------+--------------------+-----+-------------+--------------------+--------------------+----------+\n",
            "|          tweet_id|airline_sentiment|airline_sentiment_confidence|   airline|           name|retweet_count|                text|       tweet_created|tweet_location|       user_timezone|               words|            filtered|        filtered_new|        hashedValues|            features|label|      hotcode|       rawPrediction|         probability|prediction|\n",
            "+------------------+-----------------+----------------------------+----------+---------------+-------------+--------------------+--------------------+--------------+--------------------+--------------------+--------------------+--------------------+--------------------+--------------------+-----+-------------+--------------------+--------------------+----------+\n",
            "|567617081336950784|         negative|                         1.0| Southwest|    mrshossruns|            0|@SouthwestAir you...|2015-02-17 01:30:...|          null|Eastern Time (US ...|[@southwestair, y...|[@southwestair, g...|[guys, there?, ho...|(16,[0,2,5,7,10,1...|(16,[0,2,5,7,10,1...|  0.0|(2,[0],[1.0])|[-23.432018549392...|[0.71275176450040...|       0.0|\n",
            "|567627253991735296|         negative|                         1.0|    United|DBsViewOnThings|            0|@united please se...|2015-02-17 02:10:...|          null|Atlantic Time (Ca...|[@united, please,...|[@united, please,...|[please, see, fli...|(16,[0,2,3,5,6,8,...|(16,[0,2,3,5,6,8,...|  0.0|(2,[0],[1.0])|[-25.748781893269...|[0.59410953760306...|       0.0|\n",
            "|567643252753694721|          neutral|                         1.0|US Airways|     ashenfaced|            0|@USAirways how's ...|2015-02-17 03:14:...|      Brighton|                null|[@usairways, how'...|[@usairways, us, ...|[us, 1797, lookin...|(16,[0,3,4,8],[1....|(16,[0,3,4,8],[0....|  1.0|(2,[1],[1.0])|[-10.548126671146...|[0.63446511598464...|       0.0|\n",
            "|567655489119326209|         positive|                         1.0| Southwest|        rjp1208|            0|@SouthwestAir nic...|2015-02-17 04:03:...|          null|Pacific Time (US ...|[@southwestair, n...|[@southwestair, n...|[nice, work, upda...|(16,[2,7,9,10],[1...|(16,[2,7,9,10],[0...|  2.0|    (2,[],[])|[-8.4525378639665...|[0.57434938881210...|       0.0|\n",
            "|567663136082513920|         negative|                         1.0|    United|   hannahtorney|            0|@united i have it...|2015-02-17 04:33:...| Omagh/Belfast|              London|[@united, i, have...|[@united, items, ...|[items, sentiment...|(16,[0,5,7,11],[1...|(16,[0,5,7,11],[0...|  0.0|(2,[0],[1.0])|[-13.523044080016...|[0.70989856575849...|       0.0|\n",
            "+------------------+-----------------+----------------------------+----------+---------------+-------------+--------------------+--------------------+--------------+--------------------+--------------------+--------------------+--------------------+--------------------+--------------------+-----+-------------+--------------------+--------------------+----------+\n",
            "only showing top 5 rows\n",
            "\n"
          ],
          "name": "stdout"
        }
      ]
    },
    {
      "cell_type": "code",
      "metadata": {
        "colab": {
          "base_uri": "https://localhost:8080/"
        },
        "id": "mQpf0tLVLR8z",
        "outputId": "615e0f1a-0467-4c05-d143-00f12d98b8dd"
      },
      "source": [
        "# Use the Class Evaluator for a cleaner description\n",
        "from pyspark.ml.evaluation import MulticlassClassificationEvaluator\n",
        "\n",
        "acc_eval = MulticlassClassificationEvaluator()\n",
        "acc = acc_eval.evaluate(test_results)\n",
        "print(\"Accuracy of model at predicting reviews was: %f\" % acc)"
      ],
      "execution_count": null,
      "outputs": [
        {
          "output_type": "stream",
          "text": [
            "Accuracy of model at predicting reviews was: 0.483320\n"
          ],
          "name": "stdout"
        }
      ]
    },
    {
      "cell_type": "markdown",
      "metadata": {
        "id": "eEp-kOHkUkSK"
      },
      "source": [
        ""
      ]
    },
    {
      "cell_type": "code",
      "metadata": {
        "colab": {
          "base_uri": "https://localhost:8080/"
        },
        "id": "B1YPZ0CRUSvV",
        "outputId": "97359e9b-f7b5-4325-ca9a-6a0191716271"
      },
      "source": [
        "testing.show()"
      ],
      "execution_count": null,
      "outputs": [
        {
          "output_type": "stream",
          "text": [
            "+------------------+-----------------+----------------------------+----------+---------------+-------------+--------------------+--------------------+--------------------+--------------------+--------------------+--------------------+--------------------+--------------------+--------------------+-----+-------------+\n",
            "|          tweet_id|airline_sentiment|airline_sentiment_confidence|   airline|           name|retweet_count|                text|       tweet_created|      tweet_location|       user_timezone|               words|            filtered|        filtered_new|        hashedValues|            features|label|      hotcode|\n",
            "+------------------+-----------------+----------------------------+----------+---------------+-------------+--------------------+--------------------+--------------------+--------------------+--------------------+--------------------+--------------------+--------------------+--------------------+-----+-------------+\n",
            "|567617081336950784|         negative|                         1.0| Southwest|    mrshossruns|            0|@SouthwestAir you...|2015-02-17 01:30:...|                null|Eastern Time (US ...|[@southwestair, y...|[@southwestair, g...|[guys, there?, ho...|(16,[0,2,5,7,10,1...|(16,[0,2,5,7,10,1...|  0.0|(2,[0],[1.0])|\n",
            "|567627253991735296|         negative|                         1.0|    United|DBsViewOnThings|            0|@united please se...|2015-02-17 02:10:...|                null|Atlantic Time (Ca...|[@united, please,...|[@united, please,...|[please, see, fli...|(16,[0,2,3,5,6,8,...|(16,[0,2,3,5,6,8,...|  0.0|(2,[0],[1.0])|\n",
            "|567643252753694721|          neutral|                         1.0|US Airways|     ashenfaced|            0|@USAirways how's ...|2015-02-17 03:14:...|            Brighton|                null|[@usairways, how'...|[@usairways, us, ...|[us, 1797, lookin...|(16,[0,3,4,8],[1....|(16,[0,3,4,8],[0....|  1.0|(2,[1],[1.0])|\n",
            "|567655489119326209|         positive|                         1.0| Southwest|        rjp1208|            0|@SouthwestAir nic...|2015-02-17 04:03:...|                null|Pacific Time (US ...|[@southwestair, n...|[@southwestair, n...|[nice, work, upda...|(16,[2,7,9,10],[1...|(16,[2,7,9,10],[0...|  2.0|    (2,[],[])|\n",
            "|567663136082513920|         negative|                         1.0|    United|   hannahtorney|            0|@united i have it...|2015-02-17 04:33:...|       Omagh/Belfast|              London|[@united, i, have...|[@united, items, ...|[items, sentiment...|(16,[0,5,7,11],[1...|(16,[0,5,7,11],[0...|  0.0|(2,[0],[1.0])|\n",
            "|567671602280923136|         positive|                         1.0|     Delta|  twinkletaters|            0|@JetBlue Thanks! ...|2015-02-17 05:07:...|        Savannah, GA|                null|[@jetblue, thanks...|[@jetblue, thanks...|[thanks!, flight,...|(16,[0,3,4,5,7,8,...|(16,[0,3,4,5,7,8,...|  2.0|    (2,[],[])|\n",
            "|567680108002291712|         positive|                      0.6645|     Delta|TravellerLukose|            0|@JetBlue No worri...|2015-02-17 05:40:...|                null|                null|[@jetblue, no, wo...|[@jetblue, worrie...|[worries., delay,...|(16,[3,4,5,9,10,1...|(16,[3,4,5,9,10,1...|  2.0|    (2,[],[])|\n",
            "|567688325276770306|          neutral|                      0.6957| Southwest|        DubCook|            0|@SouthwestAir Guy...|2015-02-17 06:13:...|Downtown Dallas, ...|Central Time (US ...|[@southwestair, g...|[@southwestair, g...|[guys,, got, some...|(16,[2,5,7,10,12,...|(16,[2,5,7,10,12,...|  1.0|(2,[1],[1.0])|\n",
            "|567711860938772480|          neutral|                         1.0|    United|Jamie_Fisher886|            0|@united how much ...|2015-02-17 07:47:...|             Glasgow|              London|[@united, how, mu...|[@united, much, c...|[much, cost, chec...|(16,[0,6,7,8,10,1...|(16,[0,6,7,8,10,1...|  1.0|(2,[1],[1.0])|\n",
            "|567712600772050945|         negative|                      0.6716|US Airways|       sankeshw|            0|@USAirways we are...|2015-02-17 07:50:...|      North West, UK|          Casablanca|[@usairways, we, ...|[@usairways, 2pm,...|[2pm, flight, fll...|(16,[2,3,4,5,6,8,...|(16,[2,3,4,5,6,8,...|  0.0|(2,[0],[1.0])|\n",
            "|567713338873118722|         positive|                      0.6803| Southwest|       DaxJeter|            0|@SouthwestAir tha...|2015-02-17 07:53:...|        Nashville,TN|                null|[@southwestair, t...|[@southwestair, t...|[thanks, yall, ex...|(16,[2,5,6,7,9,11...|(16,[2,5,6,7,9,11...|  2.0|    (2,[],[])|\n",
            "|567713896627470336|         negative|                         1.0|    United| rachaeldoyle21|            0|@united Broken en...|2015-02-17 07:55:...|      Portsmouth, UK|                null|[@united, broken,...|[@united, broken,...|[broken, entertai...|(16,[0,1,5,6,7,11...|(16,[0,1,5,6,7,11...|  0.0|(2,[0],[1.0])|\n",
            "|567715917983776772|         negative|                         1.0| Southwest|    sahandmirza|            0|@SouthwestAir bee...|2015-02-17 08:03:...|   San Francisco, CA|                null|[@southwestair, b...|[@southwestair, h...|[hold, &gt;30, mi...|(16,[0,2,3,5,6,7,...|(16,[0,2,3,5,6,7,...|  0.0|(2,[0],[1.0])|\n",
            "|567716378681933825|          neutral|                         1.0|     Delta|    JetBlueNews|            0|@JetBlue CEO weig...|2015-02-17 08:05:...|                 USA|              Sydney|[@jetblue, ceo, w...|[@jetblue, ceo, w...|[ceo, weighs, pro...|(16,[0,3,7,8,9,10...|(16,[0,3,7,8,9,10...|  1.0|(2,[1],[1.0])|\n",
            "|567718292530688000|          neutral|                         1.0|     Delta|    Karimilrodz|            0|@JetBlue I hear t...|2015-02-17 08:12:...|         Puerto Rico|                null|[@jetblue, i, hea...|[@jetblue, hear, ...|[hear, new, thing...|(16,[1,5,7,9,10,1...|(16,[1,5,7,9,10,1...|  1.0|(2,[1],[1.0])|\n",
            "|567718653735731200|         negative|                         1.0| Southwest|       MyMissus|            0|@SouthwestAir Guy...|2015-02-17 08:14:...|        Brooklyn, NY|Eastern Time (US ...|[@southwestair, g...|[@southwestair, g...|[guys, real., hol...|(16,[0,1,2,5,6,7,...|(16,[0,1,2,5,6,7,...|  0.0|(2,[0],[1.0])|\n",
            "|567719957686136832|         negative|                      0.7201|     Delta|  Darshan7Patel|            0|@JetBlue please p...|2015-02-17 08:19:...|                null|                null|[@jetblue, please...|[@jetblue, please...|[please, provide,...|(16,[0,2,5,6,9,10...|(16,[0,2,5,6,9,10...|  0.0|(2,[0],[1.0])|\n",
            "|567721299162968065|         negative|                         1.0| Southwest|kristaallison28|            0|@SouthwestAir Can...|2015-02-17 08:24:...|             orlando|                null|[@southwestair, c...|[@southwestair, c...|[cancelled, fligh...|(16,[1,2,5,6,7,8,...|(16,[1,2,5,6,7,8,...|  0.0|(2,[0],[1.0])|\n",
            "|567721806040031232|         negative|                         1.0|US Airways|       DaFuente|            0|@USAirways I’ve h...|2015-02-17 08:26:...|         Atlanta, GA|Eastern Time (US ...|[@usairways, i’ve...|[@usairways, i’ve...|[i’ve, flight, ca...|(16,[1,2,3,5,6,7,...|(16,[1,2,3,5,6,7,...|  0.0|(2,[0],[1.0])|\n",
            "|567721945954009088|         negative|                         1.0|US Airways|     LucyALloyd|            0|. @USAirways It's...|2015-02-17 08:27:...|       Downers Grove|Central Time (US ...|[., @usairways, i...|[., @usairways, c...|[., cancelled, fl...|(16,[2,5,8,11,12,...|(16,[2,5,8,11,12,...|  0.0|(2,[0],[1.0])|\n",
            "+------------------+-----------------+----------------------------+----------+---------------+-------------+--------------------+--------------------+--------------------+--------------------+--------------------+--------------------+--------------------+--------------------+--------------------+-----+-------------+\n",
            "only showing top 20 rows\n",
            "\n"
          ],
          "name": "stdout"
        }
      ]
    }
  ]
}